{
 "cells": [
  {
   "cell_type": "code",
   "execution_count": 18,
   "metadata": {},
   "outputs": [
    {
     "name": "stdout",
     "output_type": "stream",
     "text": [
      "Reading c:\\Users\\afcad\\Downloads\\Sujeto9_R_processed.fif ...\n",
      "    Found the data of interest:\n",
      "        t =   -2500.00 ...    2500.00 ms\n",
      "        0 CTF compensation matrices available\n"
     ]
    },
    {
     "name": "stderr",
     "output_type": "stream",
     "text": [
      "C:\\Users\\afcad\\AppData\\Local\\Temp\\ipykernel_24308\\2762522924.py:14: RuntimeWarning: This filename (Sujeto9_R_processed.fif) does not conform to MNE naming conventions. All epochs files should end with -epo.fif, -epo.fif.gz, _epo.fif or _epo.fif.gz\n",
      "  fileR = mne.read_epochs(str_FileName_R)\n"
     ]
    },
    {
     "name": "stdout",
     "output_type": "stream",
     "text": [
      "Not setting metadata\n",
      "60 matching events found\n",
      "No baseline correction applied\n",
      "0 projection items activated\n",
      "Reading c:\\Users\\afcad\\Downloads\\Sujeto9_MF_processed.fif ...\n",
      "    Found the data of interest:\n",
      "        t =   -2500.00 ...    2500.00 ms\n",
      "        0 CTF compensation matrices available\n"
     ]
    },
    {
     "name": "stderr",
     "output_type": "stream",
     "text": [
      "C:\\Users\\afcad\\AppData\\Local\\Temp\\ipykernel_24308\\2762522924.py:15: RuntimeWarning: This filename (Sujeto9_MF_processed.fif) does not conform to MNE naming conventions. All epochs files should end with -epo.fif, -epo.fif.gz, _epo.fif or _epo.fif.gz\n",
      "  fileMF = mne.read_epochs(str_FileName_MF)\n"
     ]
    },
    {
     "name": "stdout",
     "output_type": "stream",
     "text": [
      "Not setting metadata\n",
      "143 matching events found\n",
      "No baseline correction applied\n",
      "0 projection items activated\n"
     ]
    }
   ],
   "source": [
    "import scipy.io as sio\n",
    "import numpy as np\n",
    "from matplotlib.colors import ListedColormap\n",
    "from scipy.stats import pearsonr\n",
    "import seaborn as sn\n",
    "import mne\n",
    "import matplotlib.pyplot as plt\n",
    "%matplotlib qt\n",
    "%gui qt\n",
    "\n",
    "# File names for the baseline and signal files\n",
    "str_FileName_R = 'Sujeto9_R_processed.fif'  # Name of the baseline file\n",
    "str_FileName_MF = 'Sujeto9_MF_processed.fif'  # Name of the signal file\n",
    "fileR = mne.read_epochs(str_FileName_R)  \n",
    "fileMF = mne.read_epochs(str_FileName_MF)\n",
    "\n",
    "# Get the data \n",
    "data_R = fileR.get_data()  # Shape: (n_epochs, n_channels, n_times)\n",
    "data_MF = fileMF.get_data()\n",
    "normalized_data = np.zeros_like(data_MF)"
   ]
  },
  {
   "cell_type": "markdown",
   "metadata": {},
   "source": [
    "## PSD in two different ways "
   ]
  },
  {
   "cell_type": "code",
   "execution_count": 19,
   "metadata": {},
   "outputs": [
    {
     "name": "stdout",
     "output_type": "stream",
     "text": [
      "Effective window size : 2.000 (s)\n",
      "Effective window size : 2.000 (s)\n"
     ]
    },
    {
     "name": "stderr",
     "output_type": "stream",
     "text": [
      "C:\\Users\\afcad\\AppData\\Local\\Temp\\ipykernel_24308\\3063428839.py:42: UserWarning: Tight layout not applied. tight_layout cannot make Axes height small enough to accommodate all Axes decorations.\n",
      "  plt.tight_layout()\n"
     ]
    }
   ],
   "source": [
    "###Plot signal and PSD\n",
    "\n",
    "import numpy as np\n",
    "import mne\n",
    "import matplotlib.pyplot as plt\n",
    "\n",
    "#fileR.plot(n_epochs=1, picks=\"eeg\")\n",
    "# fileMF.plot(n_epochs=1, picks=\"eeg\", scalings=\"auto\")\n",
    "\n",
    "# Get the PSD data for both conditions\n",
    "psd_R, freqs_R = fileR.compute_psd(method='welch', fmin=0.5, fmax=30).get_data(return_freqs=True)\n",
    "psd_MF, freqs_MF = fileMF.compute_psd(method='welch', fmin=0.5, fmax=30).get_data(return_freqs=True)\n",
    "\n",
    "# Number of channels\n",
    "n_epochs_R, n_channels_R, _ = psd_R.shape\n",
    "n_epochs_MF, n_channels_MF, _ = psd_MF.shape\n",
    "\n",
    "# Plotting\n",
    "fig, axs = plt.subplots(2, 1, figsize=(12, 8), sharex=True)\n",
    "\n",
    "channel_names = fileR.ch_names\n",
    "# Plot averaged PSD for each channel in the Resting condition\n",
    "for ch in range(n_channels_R):  # Only first 4 channels for better visualization\n",
    "    avg_psd_R = np.mean(psd_R[:, ch, :], axis=0)  # Average across epochs\n",
    "    axs[0].plot(freqs_R, avg_psd_R, label=channel_names[ch])\n",
    "\n",
    "# Plot averaged PSD for each channel in the MF condition\n",
    "for ch in range(n_channels_MF):  # Only first 4 channels for better visualization\n",
    "    avg_psd_MF = np.mean(psd_MF[:, ch, :], axis=0)  # Average across epochs\n",
    "    axs[1].plot(freqs_MF, avg_psd_MF, label=channel_names[ch])\n",
    "\n",
    "axs[0].set_title(\"PSD - Resting Condition\")\n",
    "axs[1].set_title(\"PSD - MF Condition\")\n",
    "axs[1].set_xlabel(\"Frequency (Hz)\")\n",
    "axs[0].set_ylabel(\"Power Spectral Density (dB)\")\n",
    "axs[1].set_ylabel(\"Power Spectral Density (dB)\")\n",
    "\n",
    "# Show legend with channel names\n",
    "axs[0].legend(loc=\"upper right\", fontsize=8)\n",
    "axs[1].legend(loc=\"upper right\", fontsize=8)\n",
    "\n",
    "plt.tight_layout()\n",
    "plt.show()"
   ]
  },
  {
   "cell_type": "code",
   "execution_count": 3,
   "metadata": {},
   "outputs": [],
   "source": [
    "##Testing fft\n",
    "\n",
    "import numpy as np\n",
    "import matplotlib.pyplot as plt\n",
    "from scipy.fft import fft\n",
    "\n",
    "# Assuming fileR.get_data() returns a 3D array (epochs, channels, time)\n",
    "data = fileMF.get_data()  # 3D array of shape (epochs, channels, time)\n",
    "\n",
    "# Extract the first channel across all epochs (shape: epochs, time)\n",
    "data = data[:, 7, :]  \n",
    "\n",
    "# Number of samples (time points) in each epoch\n",
    "N = data.shape[1]  # Assuming the second dimension is the time (shape: epochs, time)\n",
    "sampling_rate = 1024  # Sampling frequency in Hz\n",
    "\n",
    "# Initialize a list to store the PSDs of each epoch\n",
    "psds = []\n",
    "\n",
    "# Iterate over each epoch\n",
    "for epoch_data in data:\n",
    "    # Perform the FFT for each epoch (only the first channel, which is already extracted)\n",
    "    fft_result = fft(epoch_data)\n",
    "\n",
    "    # Calculate the Power Spectral Density (PSD) as the squared magnitude of the FFT result\n",
    "    psd = np.abs(fft_result) ** 2\n",
    "\n",
    "    # Append the PSD to the list\n",
    "    psds.append(psd)\n",
    "\n",
    "# Convert the list of PSDs to a numpy array (shape: epochs, frequency bins)\n",
    "psds = np.array(psds)\n",
    "\n",
    "# Average the PSDs across all epochs\n",
    "averaged_psd = np.mean(psds, axis=0)\n",
    "\n",
    "# Calculate the corresponding frequency values\n",
    "frequencies = np.fft.fftfreq(N, 1 / sampling_rate)\n",
    "\n",
    "# Plot the averaged PSD (only positive frequencies)\n",
    "plt.figure(figsize=(10, 6))\n",
    "plt.plot(frequencies[:N // 2], averaged_psd[:N // 2])  # Plot the positive frequencies\n",
    "plt.xlabel('Frequency (Hz)')\n",
    "plt.ylabel('Average Power Spectral Density')\n",
    "plt.title('Averaged PSD for First Channel Across Epochs')\n",
    "plt.grid(True)\n",
    "plt.xlim(0,50)\n",
    "plt.show()"
   ]
  },
  {
   "cell_type": "markdown",
   "metadata": {},
   "source": [
    "### Topomaps"
   ]
  },
  {
   "cell_type": "code",
   "execution_count": 20,
   "metadata": {},
   "outputs": [
    {
     "name": "stdout",
     "output_type": "stream",
     "text": [
      "Effective window size : 2.000 (s)\n",
      "Effective window size : 2.000 (s)\n"
     ]
    }
   ],
   "source": [
    "import numpy as np\n",
    "import mne\n",
    "import matplotlib.pyplot as plt\n",
    "\n",
    "# Compute PSDs using Welch's method\n",
    "psd_R, freqs_R = fileR.compute_psd(method='welch', fmin=0.5, fmax=30).get_data(return_freqs=True)\n",
    "psd_MF, freqs_MF = fileMF.compute_psd(method='welch', fmin=0.5, fmax=30).get_data(return_freqs=True)\n",
    "\n",
    "# Average PSD across all epochs\n",
    "avg_psd_R = np.mean(psd_R, axis=0)  # Shape: (n_channels, n_freqs)\n",
    "avg_psd_MF = np.mean(psd_MF, axis=0)  # Shape: (n_channels, n_freqs)\n",
    "\n",
    "# Define frequency bands\n",
    "frequency_bands = {\n",
    "    'Delta': (0.5, 4),\n",
    "    'Theta': (4, 8),\n",
    "    'Alpha': (8, 12),\n",
    "    'Beta': (12, 18),\n",
    "    'Fast Beta': (18, 30),\n",
    "}\n",
    "\n",
    "# Plot topomaps for resting state\n",
    "info = fileR.info  # Use the baseline's info for channel locations\n",
    "n_bands = len(frequency_bands)\n",
    "fig, axes = plt.subplots(1, n_bands, figsize=(15, 5))  # Create a row of subplots\n",
    "\n",
    "for ax, (band, (fmin, fmax)) in zip(axes, frequency_bands.items()):\n",
    "    # Find indices for the current band\n",
    "    band_idx = np.logical_and(freqs_R >= fmin, freqs_R <= fmax)\n",
    "    \n",
    "    # Average the power across the band\n",
    "    band_power_R = np.mean(avg_psd_R[:, band_idx], axis=1)  # Mean over the frequency axis\n",
    "    \n",
    "    # Plot the topomap\n",
    "    im, _ = mne.viz.plot_topomap(\n",
    "        band_power_R, \n",
    "        info, \n",
    "        axes=ax, \n",
    "        cmap='jet', \n",
    "        show=False  # Disable immediate showing to allow subplot arrangement\n",
    "    )\n",
    "    ax.set_title(f'{band} Band (Resting)')\n",
    "    cbar = plt.colorbar(im, ax=ax, shrink=0.6, orientation='horizontal', pad=0.1)\n",
    "    cbar.set_label('Power')\n",
    "    \n",
    "plt.suptitle(\"Resting State Topomap\", fontsize=16)\n",
    "plt.tight_layout()\n",
    "plt.show()\n",
    "\n",
    "# Plot topomaps for mindfulness state\n",
    "fig, axes = plt.subplots(1, n_bands, figsize=(15, 5))  # Create a row of subplots\n",
    "\n",
    "for ax, (band, (fmin, fmax)) in zip(axes, frequency_bands.items()):\n",
    "    # Find indices for the current band\n",
    "    band_idx = np.logical_and(freqs_MF >= fmin, freqs_MF <= fmax)\n",
    "    \n",
    "    # Average the power across the band\n",
    "    band_power_MF = np.mean(avg_psd_MF[:, band_idx], axis=1)  # Mean over the frequency axis\n",
    "    \n",
    "    # Plot the topomap\n",
    "    im, _ = mne.viz.plot_topomap(\n",
    "        band_power_MF, \n",
    "        info, \n",
    "        axes=ax, \n",
    "        cmap='jet', \n",
    "        show=False  # Disable immediate showing to allow subplot arrangement\n",
    "    )\n",
    "    ax.set_title(f'{band} Band (Mindfulness)')\n",
    "    cbar = plt.colorbar(im, ax=ax, shrink=0.6, orientation='horizontal', pad=0.1)\n",
    "    cbar.set_label('Power')\n",
    "\n",
    "plt.suptitle(\"Mindfulness State Topomap\", fontsize=16)\n",
    "plt.tight_layout()\n",
    "plt.show()"
   ]
  },
  {
   "cell_type": "code",
   "execution_count": 23,
   "metadata": {},
   "outputs": [
    {
     "name": "stdout",
     "output_type": "stream",
     "text": [
      "    Using multitaper spectrum estimation with 7 DPSS windows\n",
      "Plotting power spectral density (dB=True).\n",
      "Averaging across epochs before plotting...\n",
      "    Using multitaper spectrum estimation with 7 DPSS windows\n",
      "Plotting power spectral density (dB=True).\n",
      "Averaging across epochs before plotting...\n",
      "Averaging across epochs before plotting...\n",
      "converting legacy list-of-tuples input to a dict for the `bands` parameter\n",
      "Averaging across epochs before plotting...\n",
      "converting legacy list-of-tuples input to a dict for the `bands` parameter\n"
     ]
    },
    {
     "name": "stderr",
     "output_type": "stream",
     "text": [
      "C:\\Users\\afcad\\AppData\\Local\\Temp\\ipykernel_24308\\3684406836.py:88: UserWarning: This figure includes Axes that are not compatible with tight_layout, so results might be incorrect.\n",
      "  plt.tight_layout()\n"
     ]
    }
   ],
   "source": [
    "#Testing other function\n",
    "\n",
    "import mne\n",
    "import numpy as np\n",
    "import matplotlib.pyplot as plt\n",
    "\n",
    "# Define frequency range and FFT parameters\n",
    "fmin, fmax = 0.5, 50  # Frequency range\n",
    "n_fft = 256  # FFT length\n",
    "tmax = 2.0  # Maximum time window for epochs\n",
    "bands = [(1, 4, \"Delta\"), (4, 8, \"Theta\"), (8, 12, \"Alpha\"), (12, 18, \"Beta slow\"),(18, 30, \"Beta fast\"), (30, 50, \"Gammma\")]  # Frequency bands\n",
    "\n",
    "# --- 1. PSD Plot for Raw Data ---\n",
    "psd_R = fileR.compute_psd(fmin=fmin, fmax=fmax)\n",
    "psd_R.plot(dB=True, ci=\"std\")\n",
    "\n",
    "psd_MF = fileMF.compute_psd(fmin=fmin, fmax=fmax)\n",
    "psd_MF.plot(dB=True, ci=\"std\")\n",
    "\n",
    "\n",
    "####\n",
    "# fig, axs = plt.subplots(3, 1)\n",
    "\n",
    "# # Plot for psd_values_R in the first subplot (top left)\n",
    "# psd_values_R, freqs = psd_R.get_data(return_freqs=True)\n",
    "# for psd_value in psd_values_R:\n",
    "#     axs[0].plot(freqs, 10 * np.log10(psd_value.mean(axis=0) / 1e-12))  # Plot the mean PSD across channels\n",
    "# axs[0].set_xlabel(\"Frequency (Hz)\")\n",
    "# axs[0].set_ylabel(\"PSD (dB)\")\n",
    "# axs[0].set_title(\"PSD for psd_R\")\n",
    "\n",
    "# # Plot for psd_values_MF in the second subplot (top right)\n",
    "# psd_values_MF, freqs = psd_MF.get_data(return_freqs=True)\n",
    "# for psd_value in psd_values_MF:\n",
    "#     axs[1].plot(freqs, 10 * np.log10(psd_value.mean(axis=0) / 1e-12))  # Plot the mean PSD across channels\n",
    "# axs[1].set_xlabel(\"Frequency (Hz)\")\n",
    "# axs[1].set_ylabel(\"PSD (dB)\")\n",
    "# axs[1].set_title(\"PSD for psd_MF\")\n",
    "\n",
    "# # Calculate the difference (MF - R) and plot it in the third subplot (bottom left)\n",
    "# for psd_value_R, psd_value_MF in zip(psd_values_R, psd_values_MF):\n",
    "#     difference = 10 * np.log10(psd_value_MF.mean(axis=0) / 1e-12) - 10 * np.log10(psd_value_R.mean(axis=0) / 1e-12)\n",
    "#     axs[2].plot(freqs, difference)  # Plot the difference in PSD (dB)\n",
    "# axs[2].set_xlabel(\"Frequency (Hz)\")\n",
    "# axs[2].set_ylabel(\"Difference (dB)\")\n",
    "# axs[2].set_title(\"Difference (MF - R)\")\n",
    "\n",
    "# plt.tight_layout()\n",
    "# plt.show()\n",
    "####\n",
    "\n",
    "\n",
    "# --- 2. Topomap of PSD for Epochs ---\n",
    "# print(epochs_psd_R.get_data())\n",
    "psd_R.plot_topomap(bands=bands, normalize=True, cmap='jet')\n",
    "psd_MF.plot_topomap(bands=bands, normalize=True, cmap='jet')\n",
    "\n",
    "\n",
    "# Get PSD data\n",
    "psd_values_R, freqs = psd_R.get_data(return_freqs=True)\n",
    "psd_values_MF, _ = psd_MF.get_data(return_freqs=True)\n",
    "\n",
    "# Compute mean PSD across trials\n",
    "mean_psd_R = np.mean(psd_values_R, axis=0)  # Shape: (n_channels, n_freqs)\n",
    "mean_psd_MF = np.mean(psd_values_MF, axis=0)\n",
    "\n",
    "# Compute the difference in (MF - R)\n",
    "psd_diff = (mean_psd_MF / 1e-12) \n",
    "\n",
    "# Define frequency bands\n",
    "bands = [(1, 4, \"Delta\"), (4, 8, \"Theta\"), (8, 12, \"Alpha\"),\n",
    "         (12, 18, \"Beta slow\"), (18, 30, \"Beta fast\"), (30, 50, \"Gamma\")]\n",
    "\n",
    "# Create topoplots for each band\n",
    "fig, axes = plt.subplots(1, 6)  # Adjust grid for 6 plots\n",
    "\n",
    "\n",
    "for ax, (fmin, fmax, name) in zip(axes.flatten(), bands):\n",
    "    freq_idx = np.where((freqs >= fmin) & (freqs <= fmax))[0]\n",
    "    psd_diff_band = psd_diff[:, freq_idx].mean(axis=1)  # Average over selected frequencies\n",
    "    \n",
    "    # Plot topomap\n",
    "    im, _ = mne.viz.plot_topomap(psd_diff_band, psd_R.info, axes=ax, show=False, cmap=\"jet\")\n",
    "    ax.set_title(f\"{name} [{fmin}-{fmax} Hz]\")\n",
    "\n",
    "# Add colorbar\n",
    "fig.colorbar(im, ax=axes.ravel().tolist(), shrink=0.5)\n",
    "plt.tight_layout()\n",
    "plt.show()"
   ]
  },
  {
   "cell_type": "code",
   "execution_count": 6,
   "metadata": {},
   "outputs": [
    {
     "name": "stdout",
     "output_type": "stream",
     "text": [
      "    Using multitaper spectrum estimation with 7 DPSS windows\n",
      "    Using multitaper spectrum estimation with 7 DPSS windows\n"
     ]
    }
   ],
   "source": [
    "import numpy as np\n",
    "import mne\n",
    "import matplotlib.pyplot as plt\n",
    "\n",
    "# Compute PSDs using Welch's method\n",
    "psd_R, freqs_R = fileR.compute_psd(method='multitaper', fmin=0.5, fmax=50).get_data(return_freqs=True)\n",
    "psd_MF, freqs_MF = fileMF.compute_psd(method='multitaper', fmin=0.5, fmax=50).get_data(return_freqs=True)\n",
    "\n",
    "# Average PSD across all windows (mean over epochs axis, axis=0)\n",
    "avg_psd_R = np.mean(psd_R, axis=0)  # Shape: (n_channels, n_freqs)\n",
    "avg_psd_MF = np.mean(psd_MF, axis=0)  # Shape: (n_channels, n_freqs)\n",
    "\n",
    "# Calculate the difference\n",
    "difference_psd = (avg_psd_MF - avg_psd_R)/1e-12  # Shape: (n_channels, n_freqs)\n",
    "\n",
    "# Define frequency bands\n",
    "frequency_bands = {\n",
    "    'Delta': (0.5, 4),\n",
    "    'Theta': (4, 8),\n",
    "    'Alpha': (8, 12),\n",
    "    'Beta': (12, 18),\n",
    "    'Fast Beta': (18, 30),\n",
    "    'Gamma': (30, 50)\n",
    "}\n",
    "\n",
    "# Calculate global min and max across all bands\n",
    "global_min = np.inf\n",
    "global_max = -np.inf\n",
    "\n",
    "for fmin, fmax in frequency_bands.values():\n",
    "    band_idx = np.logical_and(freqs_R >= fmin, freqs_R <= fmax)\n",
    "    band_power_difference = np.mean(difference_psd[:, band_idx], axis=1)  # Mean over frequencies\n",
    "    global_min = min(global_min, band_power_difference.min())\n",
    "    global_max = max(global_max, band_power_difference.max())\n",
    "\n",
    "# Extract band-specific differences and prepare the figure\n",
    "info = fileR.info  # Use the baseline's info for channel locations\n",
    "n_bands = len(frequency_bands)\n",
    "fig, axes = plt.subplots(1, n_bands, figsize=(15, 5))  # Create a row of subplots\n",
    "\n",
    "for ax, (band, (fmin, fmax)) in zip(axes, frequency_bands.items()):\n",
    "    # Find indices for the current band\n",
    "    band_idx = np.logical_and(freqs_R >= fmin, freqs_R <= fmax)\n",
    "    \n",
    "    # Average the difference across the band\n",
    "    band_power_difference = np.mean(difference_psd[:, band_idx], axis=1)  # Mean over the frequency axis\n",
    "    \n",
    "    # Plot the topomap with consistent vlim\n",
    "    im, _ = mne.viz.plot_topomap(\n",
    "        band_power_difference, \n",
    "        info, \n",
    "        axes=ax, \n",
    "        cmap='jet', \n",
    "        show=False,  # Disable immediate showing to allow subplot arrangement\n",
    "        names=fileR.ch_names,\n",
    "    #   vlim=(global_min, global_max)  # Use global min and max\n",
    "    )\n",
    "    ax.set_title(f\"{band} Band\")\n",
    "    # Add a colorbar for the subplot\n",
    "    cbar = plt.colorbar(im, ax=ax, shrink=0.6, orientation='horizontal', pad=0.1)\n",
    "    cbar.set_label('Power Difference')\n",
    "\n",
    "# Finalize and display the figure\n",
    "plt.suptitle(\"Mindfulness Difference\", fontsize=16)\n",
    "plt.tight_layout()\n",
    "plt.show()"
   ]
  },
  {
   "cell_type": "code",
   "execution_count": 7,
   "metadata": {},
   "outputs": [],
   "source": [
    "# import numpy as np\n",
    "# import mne\n",
    "# import matplotlib.pyplot as plt\n",
    "\n",
    "# # Compute PSDs using Welch's method\n",
    "# psd_R, freqs_R = fileR.compute_psd(method='welch', fmin=0.5, fmax=30).get_data(return_freqs=True)\n",
    "# psd_MF, freqs_MF = fileMF.compute_psd(method='welch', fmin=0.5, fmax=30).get_data(return_freqs=True)\n",
    "\n",
    "# # Normalize PSDs (relative power for each channel)\n",
    "# total_power_R = np.sum(psd_R, axis=2, keepdims=True)  # Total power across frequencies per channel for R\n",
    "# total_power_MF = np.sum(psd_MF, axis=2, keepdims=True)  # Total power across frequencies per channel for MF\n",
    "# relative_psd_R = psd_R / total_power_R  # Shape: (n_epochs, n_channels, n_freqs)\n",
    "# relative_psd_MF = psd_MF / total_power_MF\n",
    "\n",
    "# # Average relative PSDs across epochs\n",
    "# avg_relative_psd_R = np.mean(relative_psd_R, axis=0)  # Shape: (n_channels, n_freqs)\n",
    "# avg_relative_psd_MF = np.mean(relative_psd_MF, axis=0)  # Shape: (n_channels, n_freqs)\n",
    "\n",
    "# # Compute the relative power difference\n",
    "# relative_power_difference = avg_relative_psd_MF - avg_relative_psd_R  # Shape: (n_channels, n_freqs)\n",
    "\n",
    "# # Define frequency bands\n",
    "# frequency_bands = {\n",
    "#     'Delta': (0.5, 4),\n",
    "#     'Theta': (4, 8),\n",
    "#     'Alpha': (8, 12),\n",
    "#     'Beta': (12, 18),\n",
    "#     'FastBeta': (18, 30),\n",
    "# }\n",
    "\n",
    "# # Prepare the figure for topomaps\n",
    "# info = fileR.info  # Use the baseline's info for channel locations\n",
    "# n_bands = len(frequency_bands)\n",
    "# fig, axes = plt.subplots(1, n_bands, figsize=(15, 5))  # Create a row of subplots\n",
    "\n",
    "# for ax, (band, (fmin, fmax)) in zip(axes, frequency_bands.items()):\n",
    "#     # Find indices for the current band\n",
    "#     band_idx = np.logical_and(freqs_R >= fmin, freqs_R <= fmax)\n",
    "    \n",
    "#     # Average the relative power difference across the band\n",
    "#     band_relative_power_diff = np.mean(relative_power_difference[:, band_idx], axis=1)  # Mean over frequencies\n",
    "   \n",
    "#     # Plot the topomap with a colorbar\n",
    "#     im, _ = mne.viz.plot_topomap(\n",
    "#         band_relative_power_diff, \n",
    "#         info, \n",
    "#         axes=ax, \n",
    "#         cmap='jet', \n",
    "#         show=False  # Disable immediate showing to allow subplot arrangement\n",
    "#     )\n",
    "#     ax.set_title(f'{band} Band')\n",
    "    \n",
    "#     # Add a colorbar for the subplot\n",
    "#     cbar = plt.colorbar(im, ax=ax, shrink=0.6, orientation='horizontal', pad=0.1)\n",
    "#     cbar.set_label('Relative Power Difference')\n",
    "\n",
    "# # Finalize and display the figure\n",
    "# plt.tight_layout()\n",
    "# plt.show()"
   ]
  },
  {
   "cell_type": "markdown",
   "metadata": {},
   "source": [
    "## Resting, Mind, DiffNormalized"
   ]
  },
  {
   "cell_type": "code",
   "execution_count": 8,
   "metadata": {},
   "outputs": [
    {
     "name": "stdout",
     "output_type": "stream",
     "text": [
      "Effective window size : 2.000 (s)\n",
      "Effective window size : 2.000 (s)\n"
     ]
    },
    {
     "name": "stderr",
     "output_type": "stream",
     "text": [
      "C:\\Users\\afcad\\AppData\\Local\\Temp\\ipykernel_24308\\1618039706.py:76: UserWarning: This figure includes Axes that are not compatible with tight_layout, so results might be incorrect.\n",
      "  plt.tight_layout()\n"
     ]
    }
   ],
   "source": [
    "import numpy as np\n",
    "import mne\n",
    "import matplotlib.pyplot as plt\n",
    "\n",
    "# Compute PSDs using Welch's method\n",
    "psd_R, freqs_R = fileR.compute_psd(method='welch', fmin=0.5, fmax=50).get_data(return_freqs=True)\n",
    "psd_MF, freqs_MF = fileMF.compute_psd(method='welch', fmin=0.5, fmax=50).get_data(return_freqs=True)\n",
    "\n",
    "# Normalize PSDs (relative power for each channel)\n",
    "total_power_R = np.sum(psd_R, axis=2, keepdims=True)  # Total power across frequencies per channel for R\n",
    "total_power_MF = np.sum(psd_MF, axis=2, keepdims=True)  # Total power across frequencies per channel for MF\n",
    "relative_psd_R = psd_R / total_power_R  # Shape: (n_epochs, n_channels, n_freqs)\n",
    "relative_psd_MF = psd_MF / total_power_MF\n",
    "\n",
    "# Average relative PSDs across epochs\n",
    "avg_relative_psd_R = np.mean(relative_psd_R, axis=0)   # Shape: (n_channels, n_freqs)\n",
    "avg_relative_psd_MF = np.mean(relative_psd_MF, axis=0)   # Shape: (n_channels, n_freqs)\n",
    "\n",
    "# Compute the relative power difference\n",
    "relative_power_difference = avg_relative_psd_MF - avg_relative_psd_R  # Shape: (n_channels, n_freqs)\n",
    "\n",
    "# Define frequency bands\n",
    "frequency_bands = {\n",
    "    'Delta': (0.5, 4),\n",
    "    'Theta': (4, 8),\n",
    "    'Alpha': (8, 12),\n",
    "    'Beta': (12, 18),\n",
    "    'FastBeta': (18, 30),\n",
    "    'Gamma': (30, 50)\n",
    "}\n",
    "\n",
    "# Prepare the figure for topomaps\n",
    "info = fileR.info  # Use the baseline's info for channel locations\n",
    "n_bands = len(frequency_bands)\n",
    "fig, axes = plt.subplots(3, n_bands, figsize=(11, 12),gridspec_kw={'wspace': 0.0001, 'hspace': 0.0001})  # Adjust spacing  # Create a grid of subplots\n",
    "\n",
    "for row, data, title in zip(\n",
    "    range(3),\n",
    "    [avg_relative_psd_R, avg_relative_psd_MF, relative_power_difference],\n",
    "    ['Resting', 'Mindfulness', 'Normalized Difference']\n",
    "):\n",
    "    for ax, (band, (fmin, fmax)) in zip(axes[row], frequency_bands.items()):\n",
    "        # Find indices for the current band\n",
    "        band_idx = np.logical_and(freqs_R >= fmin, freqs_R <= fmax)\n",
    "        \n",
    "        # Average the data across the band\n",
    "        band_data = np.mean(data[:, band_idx], axis=1)  # Mean over frequencies\n",
    "        \n",
    "        # Plot the topomap with a colorbar\n",
    "        im, _ = mne.viz.plot_topomap(\n",
    "            band_data, \n",
    "            info, \n",
    "            axes=ax, \n",
    "            cmap='jet', \n",
    "            show=False,  # Disable immediate showing to allow subplot arrangement\n",
    "        )\n",
    "        ax.set_title(f'{band} Band' if row == 0 else '')\n",
    "        \n",
    "        # Add a colorbar for the subplot\n",
    "        cbar = plt.colorbar(im, ax=ax, shrink=0.6, orientation='horizontal', pad=0.1)\n",
    "        if row == 2:  # Label the colorbar only for the last row\n",
    "            cbar.set_label(title)\n",
    "\n",
    "# Add row titles\n",
    "for ax, title in zip(axes[:, 0], ['Resting', 'Mindfulness', 'Normalized Difference']):\n",
    "    ax.annotate(\n",
    "        title, \n",
    "        xy=(0, 0.5), \n",
    "        xytext=(-ax.yaxis.labelpad - 5, 0),\n",
    "        xycoords=ax.yaxis.label, \n",
    "        textcoords='offset points',\n",
    "        size='large', ha='right', va='center', rotation=90\n",
    "    )\n",
    "\n",
    "# Finalize and display the figure\n",
    "plt.tight_layout()\n",
    "plt.show()"
   ]
  },
  {
   "cell_type": "markdown",
   "metadata": {},
   "source": [
    "## For Several files (relative)"
   ]
  },
  {
   "cell_type": "code",
   "execution_count": 17,
   "metadata": {},
   "outputs": [
    {
     "name": "stdout",
     "output_type": "stream",
     "text": [
      "Reading c:\\Users\\afcad\\Downloads\\Sujeto6_R_processed.fif ...\n",
      "    Found the data of interest:\n",
      "        t =   -2500.00 ...    2500.00 ms\n",
      "        0 CTF compensation matrices available\n"
     ]
    },
    {
     "name": "stderr",
     "output_type": "stream",
     "text": [
      "C:\\Users\\afcad\\AppData\\Local\\Temp\\ipykernel_24308\\3921912933.py:19: RuntimeWarning: This filename (Sujeto6_R_processed.fif) does not conform to MNE naming conventions. All epochs files should end with -epo.fif, -epo.fif.gz, _epo.fif or _epo.fif.gz\n",
      "  fileR = mne.read_epochs(str_FileName_R)\n"
     ]
    },
    {
     "name": "stdout",
     "output_type": "stream",
     "text": [
      "Not setting metadata\n",
      "72 matching events found\n",
      "No baseline correction applied\n",
      "0 projection items activated\n",
      "Reading c:\\Users\\afcad\\Downloads\\Sujeto6_MF_processed.fif ...\n",
      "    Found the data of interest:\n",
      "        t =   -2500.00 ...    2500.00 ms\n",
      "        0 CTF compensation matrices available\n"
     ]
    },
    {
     "name": "stderr",
     "output_type": "stream",
     "text": [
      "C:\\Users\\afcad\\AppData\\Local\\Temp\\ipykernel_24308\\3921912933.py:20: RuntimeWarning: This filename (Sujeto6_MF_processed.fif) does not conform to MNE naming conventions. All epochs files should end with -epo.fif, -epo.fif.gz, _epo.fif or _epo.fif.gz\n",
      "  fileMF = mne.read_epochs(str_FileName_MF)\n"
     ]
    },
    {
     "name": "stdout",
     "output_type": "stream",
     "text": [
      "Not setting metadata\n",
      "107 matching events found\n",
      "No baseline correction applied\n",
      "0 projection items activated\n",
      "Effective window size : 2.000 (s)\n",
      "Effective window size : 2.000 (s)\n",
      "Reading c:\\Users\\afcad\\Downloads\\Sujeto9_R_processed.fif ...\n",
      "    Found the data of interest:\n",
      "        t =   -2500.00 ...    2500.00 ms\n",
      "        0 CTF compensation matrices available\n"
     ]
    },
    {
     "name": "stderr",
     "output_type": "stream",
     "text": [
      "C:\\Users\\afcad\\AppData\\Local\\Temp\\ipykernel_24308\\3921912933.py:19: RuntimeWarning: This filename (Sujeto9_R_processed.fif) does not conform to MNE naming conventions. All epochs files should end with -epo.fif, -epo.fif.gz, _epo.fif or _epo.fif.gz\n",
      "  fileR = mne.read_epochs(str_FileName_R)\n"
     ]
    },
    {
     "name": "stdout",
     "output_type": "stream",
     "text": [
      "Not setting metadata\n",
      "60 matching events found\n",
      "No baseline correction applied\n",
      "0 projection items activated\n",
      "Reading c:\\Users\\afcad\\Downloads\\Sujeto9_MF_processed.fif ...\n",
      "    Found the data of interest:\n",
      "        t =   -2500.00 ...    2500.00 ms\n",
      "        0 CTF compensation matrices available\n"
     ]
    },
    {
     "name": "stderr",
     "output_type": "stream",
     "text": [
      "C:\\Users\\afcad\\AppData\\Local\\Temp\\ipykernel_24308\\3921912933.py:20: RuntimeWarning: This filename (Sujeto9_MF_processed.fif) does not conform to MNE naming conventions. All epochs files should end with -epo.fif, -epo.fif.gz, _epo.fif or _epo.fif.gz\n",
      "  fileMF = mne.read_epochs(str_FileName_MF)\n"
     ]
    },
    {
     "name": "stdout",
     "output_type": "stream",
     "text": [
      "Not setting metadata\n",
      "143 matching events found\n",
      "No baseline correction applied\n",
      "0 projection items activated\n",
      "Effective window size : 2.000 (s)\n",
      "Effective window size : 2.000 (s)\n",
      "Reading c:\\Users\\afcad\\Downloads\\Sujeto11_R_processed.fif ...\n",
      "    Found the data of interest:\n",
      "        t =   -2500.00 ...    2500.00 ms\n",
      "        0 CTF compensation matrices available\n"
     ]
    },
    {
     "name": "stderr",
     "output_type": "stream",
     "text": [
      "C:\\Users\\afcad\\AppData\\Local\\Temp\\ipykernel_24308\\3921912933.py:19: RuntimeWarning: This filename (Sujeto11_R_processed.fif) does not conform to MNE naming conventions. All epochs files should end with -epo.fif, -epo.fif.gz, _epo.fif or _epo.fif.gz\n",
      "  fileR = mne.read_epochs(str_FileName_R)\n"
     ]
    },
    {
     "name": "stdout",
     "output_type": "stream",
     "text": [
      "Not setting metadata\n",
      "53 matching events found\n",
      "No baseline correction applied\n",
      "0 projection items activated\n",
      "Reading c:\\Users\\afcad\\Downloads\\Sujeto11_MF_processed.fif ...\n",
      "    Found the data of interest:\n",
      "        t =   -2500.00 ...    2500.00 ms\n",
      "        0 CTF compensation matrices available\n"
     ]
    },
    {
     "name": "stderr",
     "output_type": "stream",
     "text": [
      "C:\\Users\\afcad\\AppData\\Local\\Temp\\ipykernel_24308\\3921912933.py:20: RuntimeWarning: This filename (Sujeto11_MF_processed.fif) does not conform to MNE naming conventions. All epochs files should end with -epo.fif, -epo.fif.gz, _epo.fif or _epo.fif.gz\n",
      "  fileMF = mne.read_epochs(str_FileName_MF)\n"
     ]
    },
    {
     "name": "stdout",
     "output_type": "stream",
     "text": [
      "Not setting metadata\n",
      "107 matching events found\n",
      "No baseline correction applied\n",
      "0 projection items activated\n",
      "Effective window size : 2.000 (s)\n",
      "Effective window size : 2.000 (s)\n",
      "Reading c:\\Users\\afcad\\Downloads\\Sujeto14_R_processed.fif ...\n",
      "    Found the data of interest:\n",
      "        t =   -2500.00 ...    2500.00 ms\n",
      "        0 CTF compensation matrices available\n"
     ]
    },
    {
     "name": "stderr",
     "output_type": "stream",
     "text": [
      "C:\\Users\\afcad\\AppData\\Local\\Temp\\ipykernel_24308\\3921912933.py:19: RuntimeWarning: This filename (Sujeto14_R_processed.fif) does not conform to MNE naming conventions. All epochs files should end with -epo.fif, -epo.fif.gz, _epo.fif or _epo.fif.gz\n",
      "  fileR = mne.read_epochs(str_FileName_R)\n"
     ]
    },
    {
     "name": "stdout",
     "output_type": "stream",
     "text": [
      "Not setting metadata\n",
      "71 matching events found\n",
      "No baseline correction applied\n",
      "0 projection items activated\n",
      "Reading c:\\Users\\afcad\\Downloads\\Sujeto14_MF_processed.fif ...\n",
      "    Found the data of interest:\n",
      "        t =   -2500.00 ...    2500.00 ms\n",
      "        0 CTF compensation matrices available\n"
     ]
    },
    {
     "name": "stderr",
     "output_type": "stream",
     "text": [
      "C:\\Users\\afcad\\AppData\\Local\\Temp\\ipykernel_24308\\3921912933.py:20: RuntimeWarning: This filename (Sujeto14_MF_processed.fif) does not conform to MNE naming conventions. All epochs files should end with -epo.fif, -epo.fif.gz, _epo.fif or _epo.fif.gz\n",
      "  fileMF = mne.read_epochs(str_FileName_MF)\n"
     ]
    },
    {
     "name": "stdout",
     "output_type": "stream",
     "text": [
      "Not setting metadata\n",
      "141 matching events found\n",
      "No baseline correction applied\n",
      "0 projection items activated\n",
      "Effective window size : 2.000 (s)\n",
      "Effective window size : 2.000 (s)\n",
      "Reading c:\\Users\\afcad\\Downloads\\Sujeto16_R_processed.fif ...\n",
      "    Found the data of interest:\n",
      "        t =   -2500.00 ...    2500.00 ms\n",
      "        0 CTF compensation matrices available\n"
     ]
    },
    {
     "name": "stderr",
     "output_type": "stream",
     "text": [
      "C:\\Users\\afcad\\AppData\\Local\\Temp\\ipykernel_24308\\3921912933.py:19: RuntimeWarning: This filename (Sujeto16_R_processed.fif) does not conform to MNE naming conventions. All epochs files should end with -epo.fif, -epo.fif.gz, _epo.fif or _epo.fif.gz\n",
      "  fileR = mne.read_epochs(str_FileName_R)\n"
     ]
    },
    {
     "name": "stdout",
     "output_type": "stream",
     "text": [
      "Not setting metadata\n",
      "52 matching events found\n",
      "No baseline correction applied\n",
      "0 projection items activated\n",
      "Reading c:\\Users\\afcad\\Downloads\\Sujeto16_MF_processed.fif ...\n",
      "    Found the data of interest:\n",
      "        t =   -2500.00 ...    2500.00 ms\n",
      "        0 CTF compensation matrices available\n"
     ]
    },
    {
     "name": "stderr",
     "output_type": "stream",
     "text": [
      "C:\\Users\\afcad\\AppData\\Local\\Temp\\ipykernel_24308\\3921912933.py:20: RuntimeWarning: This filename (Sujeto16_MF_processed.fif) does not conform to MNE naming conventions. All epochs files should end with -epo.fif, -epo.fif.gz, _epo.fif or _epo.fif.gz\n",
      "  fileMF = mne.read_epochs(str_FileName_MF)\n"
     ]
    },
    {
     "name": "stdout",
     "output_type": "stream",
     "text": [
      "Not setting metadata\n",
      "106 matching events found\n",
      "No baseline correction applied\n",
      "0 projection items activated\n",
      "Effective window size : 2.000 (s)\n",
      "Effective window size : 2.000 (s)\n",
      "Reading c:\\Users\\afcad\\Downloads\\Sujeto18_R_processed.fif ...\n",
      "    Found the data of interest:\n",
      "        t =   -2500.00 ...    2500.00 ms\n",
      "        0 CTF compensation matrices available\n"
     ]
    },
    {
     "name": "stderr",
     "output_type": "stream",
     "text": [
      "C:\\Users\\afcad\\AppData\\Local\\Temp\\ipykernel_24308\\3921912933.py:19: RuntimeWarning: This filename (Sujeto18_R_processed.fif) does not conform to MNE naming conventions. All epochs files should end with -epo.fif, -epo.fif.gz, _epo.fif or _epo.fif.gz\n",
      "  fileR = mne.read_epochs(str_FileName_R)\n"
     ]
    },
    {
     "name": "stdout",
     "output_type": "stream",
     "text": [
      "Not setting metadata\n",
      "44 matching events found\n",
      "No baseline correction applied\n",
      "0 projection items activated\n",
      "Reading c:\\Users\\afcad\\Downloads\\Sujeto18_MF_processed.fif ...\n",
      "    Found the data of interest:\n",
      "        t =   -2500.00 ...    2500.00 ms\n",
      "        0 CTF compensation matrices available\n"
     ]
    },
    {
     "name": "stderr",
     "output_type": "stream",
     "text": [
      "C:\\Users\\afcad\\AppData\\Local\\Temp\\ipykernel_24308\\3921912933.py:20: RuntimeWarning: This filename (Sujeto18_MF_processed.fif) does not conform to MNE naming conventions. All epochs files should end with -epo.fif, -epo.fif.gz, _epo.fif or _epo.fif.gz\n",
      "  fileMF = mne.read_epochs(str_FileName_MF)\n"
     ]
    },
    {
     "name": "stdout",
     "output_type": "stream",
     "text": [
      "Not setting metadata\n",
      "137 matching events found\n",
      "No baseline correction applied\n",
      "0 projection items activated\n",
      "Effective window size : 2.000 (s)\n",
      "Effective window size : 2.000 (s)\n",
      "Reading c:\\Users\\afcad\\Downloads\\Sujeto19_R_processed.fif ...\n",
      "    Found the data of interest:\n",
      "        t =   -2500.00 ...    2500.00 ms\n",
      "        0 CTF compensation matrices available\n"
     ]
    },
    {
     "name": "stderr",
     "output_type": "stream",
     "text": [
      "C:\\Users\\afcad\\AppData\\Local\\Temp\\ipykernel_24308\\3921912933.py:19: RuntimeWarning: This filename (Sujeto19_R_processed.fif) does not conform to MNE naming conventions. All epochs files should end with -epo.fif, -epo.fif.gz, _epo.fif or _epo.fif.gz\n",
      "  fileR = mne.read_epochs(str_FileName_R)\n"
     ]
    },
    {
     "name": "stdout",
     "output_type": "stream",
     "text": [
      "Not setting metadata\n",
      "68 matching events found\n",
      "No baseline correction applied\n",
      "0 projection items activated\n",
      "Reading c:\\Users\\afcad\\Downloads\\Sujeto19_MF_processed.fif ...\n",
      "    Found the data of interest:\n",
      "        t =   -2500.00 ...    2500.00 ms\n",
      "        0 CTF compensation matrices available\n"
     ]
    },
    {
     "name": "stderr",
     "output_type": "stream",
     "text": [
      "C:\\Users\\afcad\\AppData\\Local\\Temp\\ipykernel_24308\\3921912933.py:20: RuntimeWarning: This filename (Sujeto19_MF_processed.fif) does not conform to MNE naming conventions. All epochs files should end with -epo.fif, -epo.fif.gz, _epo.fif or _epo.fif.gz\n",
      "  fileMF = mne.read_epochs(str_FileName_MF)\n"
     ]
    },
    {
     "name": "stdout",
     "output_type": "stream",
     "text": [
      "Not setting metadata\n",
      "143 matching events found\n",
      "No baseline correction applied\n",
      "0 projection items activated\n",
      "Effective window size : 2.000 (s)\n",
      "Effective window size : 2.000 (s)\n",
      "Reading c:\\Users\\afcad\\Downloads\\Sujeto20_R_processed.fif ...\n",
      "    Found the data of interest:\n",
      "        t =   -2500.00 ...    2500.00 ms\n",
      "        0 CTF compensation matrices available\n"
     ]
    },
    {
     "name": "stderr",
     "output_type": "stream",
     "text": [
      "C:\\Users\\afcad\\AppData\\Local\\Temp\\ipykernel_24308\\3921912933.py:19: RuntimeWarning: This filename (Sujeto20_R_processed.fif) does not conform to MNE naming conventions. All epochs files should end with -epo.fif, -epo.fif.gz, _epo.fif or _epo.fif.gz\n",
      "  fileR = mne.read_epochs(str_FileName_R)\n"
     ]
    },
    {
     "name": "stdout",
     "output_type": "stream",
     "text": [
      "Not setting metadata\n",
      "71 matching events found\n",
      "No baseline correction applied\n",
      "0 projection items activated\n",
      "Reading c:\\Users\\afcad\\Downloads\\Sujeto20_MF_processed.fif ...\n",
      "    Found the data of interest:\n",
      "        t =   -2500.00 ...    2500.00 ms\n",
      "        0 CTF compensation matrices available\n"
     ]
    },
    {
     "name": "stderr",
     "output_type": "stream",
     "text": [
      "C:\\Users\\afcad\\AppData\\Local\\Temp\\ipykernel_24308\\3921912933.py:20: RuntimeWarning: This filename (Sujeto20_MF_processed.fif) does not conform to MNE naming conventions. All epochs files should end with -epo.fif, -epo.fif.gz, _epo.fif or _epo.fif.gz\n",
      "  fileMF = mne.read_epochs(str_FileName_MF)\n"
     ]
    },
    {
     "name": "stdout",
     "output_type": "stream",
     "text": [
      "Not setting metadata\n",
      "141 matching events found\n",
      "No baseline correction applied\n",
      "0 projection items activated\n",
      "Effective window size : 2.000 (s)\n",
      "Effective window size : 2.000 (s)\n",
      "Reading c:\\Users\\afcad\\Downloads\\Sujeto21_R_processed.fif ...\n",
      "    Found the data of interest:\n",
      "        t =   -2500.00 ...    2500.00 ms\n",
      "        0 CTF compensation matrices available\n"
     ]
    },
    {
     "name": "stderr",
     "output_type": "stream",
     "text": [
      "C:\\Users\\afcad\\AppData\\Local\\Temp\\ipykernel_24308\\3921912933.py:19: RuntimeWarning: This filename (Sujeto21_R_processed.fif) does not conform to MNE naming conventions. All epochs files should end with -epo.fif, -epo.fif.gz, _epo.fif or _epo.fif.gz\n",
      "  fileR = mne.read_epochs(str_FileName_R)\n"
     ]
    },
    {
     "name": "stdout",
     "output_type": "stream",
     "text": [
      "Not setting metadata\n",
      "47 matching events found\n",
      "No baseline correction applied\n",
      "0 projection items activated\n",
      "Reading c:\\Users\\afcad\\Downloads\\Sujeto21_MF_processed.fif ...\n",
      "    Found the data of interest:\n",
      "        t =   -2500.00 ...    2500.00 ms\n",
      "        0 CTF compensation matrices available\n"
     ]
    },
    {
     "name": "stderr",
     "output_type": "stream",
     "text": [
      "C:\\Users\\afcad\\AppData\\Local\\Temp\\ipykernel_24308\\3921912933.py:20: RuntimeWarning: This filename (Sujeto21_MF_processed.fif) does not conform to MNE naming conventions. All epochs files should end with -epo.fif, -epo.fif.gz, _epo.fif or _epo.fif.gz\n",
      "  fileMF = mne.read_epochs(str_FileName_MF)\n"
     ]
    },
    {
     "name": "stdout",
     "output_type": "stream",
     "text": [
      "Not setting metadata\n",
      "106 matching events found\n",
      "No baseline correction applied\n",
      "0 projection items activated\n",
      "Effective window size : 2.000 (s)\n",
      "Effective window size : 2.000 (s)\n",
      "Reading c:\\Users\\afcad\\Downloads\\Sujeto22_R_processed.fif ...\n",
      "    Found the data of interest:\n",
      "        t =   -2500.00 ...    2500.00 ms\n",
      "        0 CTF compensation matrices available\n"
     ]
    },
    {
     "name": "stderr",
     "output_type": "stream",
     "text": [
      "C:\\Users\\afcad\\AppData\\Local\\Temp\\ipykernel_24308\\3921912933.py:19: RuntimeWarning: This filename (Sujeto22_R_processed.fif) does not conform to MNE naming conventions. All epochs files should end with -epo.fif, -epo.fif.gz, _epo.fif or _epo.fif.gz\n",
      "  fileR = mne.read_epochs(str_FileName_R)\n"
     ]
    },
    {
     "name": "stdout",
     "output_type": "stream",
     "text": [
      "Not setting metadata\n",
      "67 matching events found\n",
      "No baseline correction applied\n",
      "0 projection items activated\n",
      "Reading c:\\Users\\afcad\\Downloads\\Sujeto22_MF_processed.fif ...\n",
      "    Found the data of interest:\n"
     ]
    },
    {
     "name": "stderr",
     "output_type": "stream",
     "text": [
      "C:\\Users\\afcad\\AppData\\Local\\Temp\\ipykernel_24308\\3921912933.py:20: RuntimeWarning: This filename (Sujeto22_MF_processed.fif) does not conform to MNE naming conventions. All epochs files should end with -epo.fif, -epo.fif.gz, _epo.fif or _epo.fif.gz\n",
      "  fileMF = mne.read_epochs(str_FileName_MF)\n"
     ]
    },
    {
     "name": "stdout",
     "output_type": "stream",
     "text": [
      "        t =   -2500.00 ...    2500.00 ms\n",
      "        0 CTF compensation matrices available\n",
      "Not setting metadata\n",
      "138 matching events found\n",
      "No baseline correction applied\n",
      "0 projection items activated\n",
      "Effective window size : 2.000 (s)\n",
      "Effective window size : 2.000 (s)\n",
      "Reading c:\\Users\\afcad\\Downloads\\Sujeto6_R_processed.fif ...\n",
      "    Found the data of interest:\n",
      "        t =   -2500.00 ...    2500.00 ms\n",
      "        0 CTF compensation matrices available\n"
     ]
    },
    {
     "name": "stderr",
     "output_type": "stream",
     "text": [
      "C:\\Users\\afcad\\AppData\\Local\\Temp\\ipykernel_24308\\3921912933.py:57: RuntimeWarning: This filename (Sujeto6_R_processed.fif) does not conform to MNE naming conventions. All epochs files should end with -epo.fif, -epo.fif.gz, _epo.fif or _epo.fif.gz\n",
      "  info = mne.read_epochs(file_pairs[0][0]).info  # Use the info from the first resting state file\n"
     ]
    },
    {
     "name": "stdout",
     "output_type": "stream",
     "text": [
      "Not setting metadata\n",
      "72 matching events found\n",
      "No baseline correction applied\n",
      "0 projection items activated\n"
     ]
    },
    {
     "name": "stderr",
     "output_type": "stream",
     "text": [
      "C:\\Users\\afcad\\AppData\\Local\\Temp\\ipykernel_24308\\3921912933.py:121: UserWarning: This figure includes Axes that are not compatible with tight_layout, so results might be incorrect.\n",
      "  plt.tight_layout()\n"
     ]
    }
   ],
   "source": [
    "def topoplotsAverage(file_pairs, fmin=0.5, fmax=50):\n",
    "    \"\"\"\n",
    "    Compute and plot the average PSDs and their differences for multiple pairs of EEG files,\n",
    "    ensuring each row has the same color scale while different rows have different scales.\n",
    "\n",
    "    Parameters:\n",
    "    - file_pairs: List of tuples [(fileR1, fileMF1), (fileR2, fileMF2), ...]\n",
    "                  Each tuple contains a resting state file and a mindfulness state file.\n",
    "    - fmin: Minimum frequency for PSD calculation (default: 0.5 Hz).\n",
    "    - fmax: Maximum frequency for PSD calculation (default: 30 Hz).\n",
    "\n",
    "    Returns:\n",
    "    - None (plots the results).\n",
    "    \"\"\"\n",
    "    avg_psd_R_all = []\n",
    "    avg_psd_MF_all = []\n",
    "\n",
    "    for str_FileName_R, str_FileName_MF in file_pairs:\n",
    "        fileR = mne.read_epochs(str_FileName_R)  \n",
    "        fileMF = mne.read_epochs(str_FileName_MF)\n",
    "        \n",
    "        # Compute PSDs using Welch's method\n",
    "        psd_R, freqs_R = fileR.compute_psd(method='welch', fmin=fmin, fmax=fmax).get_data(return_freqs=True)\n",
    "        psd_MF, freqs_MF = fileMF.compute_psd(method='welch', fmin=fmin, fmax=fmax).get_data(return_freqs=True)\n",
    "\n",
    "        # Normalize PSDs (relative power for each channel)\n",
    "        total_power_R = np.sum(psd_R, axis=2, keepdims=True)\n",
    "        total_power_MF = np.sum(psd_MF, axis=2, keepdims=True)\n",
    "        relative_psd_R = psd_R / 1e-12\n",
    "        relative_psd_MF = psd_MF / 1e-12\n",
    "\n",
    "        # Average relative PSDs across epochs\n",
    "        avg_relative_psd_R = np.mean(relative_psd_R, axis=0)\n",
    "        avg_relative_psd_MF = np.mean(relative_psd_MF, axis=0)\n",
    "\n",
    "        avg_psd_R_all.append(avg_relative_psd_R)\n",
    "        avg_psd_MF_all.append(avg_relative_psd_MF)\n",
    "\n",
    "    # Compute grand averages across all pairs\n",
    "    avg_psd_R_all = np.mean(avg_psd_R_all, axis=0)\n",
    "    avg_psd_MF_all = np.mean(avg_psd_MF_all, axis=0)\n",
    "\n",
    "    # Compute the relative power difference\n",
    "    relative_power_difference = avg_psd_MF_all - avg_psd_R_all\n",
    "\n",
    "    # Define frequency bands\n",
    "    frequency_bands = {\n",
    "        'Delta': (0.5, 4),\n",
    "        'Theta': (4, 8),\n",
    "        'Alpha': (8, 12),\n",
    "        'Beta': (12, 18),\n",
    "        'FastBeta': (18, 30),\n",
    "        'Gamma': (30, 50)\n",
    "    }\n",
    "\n",
    "    # Prepare the figure for topomaps\n",
    "    info = mne.read_epochs(file_pairs[0][0]).info  # Use the info from the first resting state file\n",
    "    n_bands = len(frequency_bands)\n",
    "    fig, axes = plt.subplots(3, n_bands, figsize=(11, 12), gridspec_kw={'wspace': 0.001, 'hspace': 0.001})\n",
    "\n",
    "    for row, data, title in zip(\n",
    "        range(3),\n",
    "        [avg_psd_R_all, avg_psd_MF_all, relative_power_difference],\n",
    "        ['Resting', 'Mindfulness', 'Normalized Difference']\n",
    "    ):\n",
    "        # Initialize lists to store the min and max values across the row\n",
    "        row_min = []\n",
    "        row_max = []\n",
    "        \n",
    "        for ax, (band, (fmin, fmax)) in zip(axes[row], frequency_bands.items()):\n",
    "            # Find indices for the current band\n",
    "            band_idx = np.logical_and(freqs_R >= fmin, freqs_R <= fmax)\n",
    "\n",
    "            # Average the data across the band\n",
    "            band_data = np.mean(data[:, band_idx], axis=1)\n",
    "\n",
    "            # Find the min and max values for the current band\n",
    "            band_min = band_data.min()\n",
    "            band_max = band_data.max()\n",
    "\n",
    "            # Store the min and max for the row\n",
    "            row_min.append(band_min)\n",
    "            row_max.append(band_max)\n",
    "\n",
    "            # Plot the topomap without setting vlim yet\n",
    "            im, _ = mne.viz.plot_topomap(\n",
    "                band_data,\n",
    "                info,\n",
    "                axes=ax,\n",
    "                cmap='jet',\n",
    "                show=False,\n",
    "            )\n",
    "            ax.set_title(f'{band} Band' if row == 0 else '')\n",
    "\n",
    "            # Add a colorbar for the subplot\n",
    "            cbar = plt.colorbar(im, ax=ax, shrink=0.6, orientation='horizontal', pad=0.1)\n",
    "            if row == 2:\n",
    "                cbar.set_label(title)\n",
    "\n",
    "        # After collecting all min and max values for the row, set the vlim for each subplot\n",
    "        row_vmin = min(row_min)\n",
    "        row_vmax = max(row_max)\n",
    "\n",
    "        # Apply the same vlim for all subplots in the current row\n",
    "        for ax in axes[row]:\n",
    "            im = ax.images[0]\n",
    "            im.set_clim(vmin=row_vmin, vmax=row_vmax) #set the colorbar\n",
    "\n",
    "    # Add row titles\n",
    "    for ax, title in zip(axes[:, 0], ['Resting', 'Mindfulness', 'Normalized Difference']):\n",
    "        ax.annotate(\n",
    "            title,\n",
    "            xy=(0, 0.5),\n",
    "            xytext=(-ax.yaxis.labelpad - 5, 0),\n",
    "            xycoords=ax.yaxis.label,\n",
    "            textcoords='offset points',\n",
    "            size='large', ha='right', va='center', rotation=90\n",
    "        )\n",
    "\n",
    "    # Finalize and display the figure\n",
    "    plt.tight_layout()\n",
    "    plt.show()\n",
    "\n",
    "file_pairs = [\n",
    "    ('Sujeto6_R_processed.fif', 'Sujeto6_MF_processed.fif'),\n",
    "    ('Sujeto9_R_processed.fif', 'Sujeto9_MF_processed.fif'),\n",
    "    ('Sujeto11_R_processed.fif', 'Sujeto11_MF_processed.fif'),\n",
    "    ('Sujeto14_R_processed.fif', 'Sujeto14_MF_processed.fif'),\n",
    "    ('Sujeto16_R_processed.fif', 'Sujeto16_MF_processed.fif'),\n",
    "    ('Sujeto18_R_processed.fif', 'Sujeto18_MF_processed.fif'),\n",
    "    ('Sujeto19_R_processed.fif', 'Sujeto19_MF_processed.fif'),\n",
    "    ('Sujeto20_R_processed.fif', 'Sujeto20_MF_processed.fif'),\n",
    "    ('Sujeto21_R_processed.fif', 'Sujeto21_MF_processed.fif'),\n",
    "    ('Sujeto22_R_processed.fif', 'Sujeto22_MF_processed.fif')\n",
    "]\n",
    "\n",
    "topoplotsAverage(file_pairs)"
   ]
  },
  {
   "cell_type": "markdown",
   "metadata": {},
   "source": [
    "## Flattenizado"
   ]
  },
  {
   "cell_type": "code",
   "execution_count": 10,
   "metadata": {},
   "outputs": [],
   "source": [
    "import mne\n",
    "import numpy as np\n",
    "import matplotlib.pyplot as plt\n",
    "\n",
    "# Extract data\n",
    "dataR = fileR.get_data()  # Shape: (n_epochs, n_channels, n_times)\n",
    "dataMF = fileMF.get_data()  # Shape: (n_epochs, n_channels, n_times)\n",
    "\n",
    "# Sampling frequency\n",
    "sfreq = fileR.info['sfreq']  # Sampling frequency (Hz)\n",
    "n_times_to_keep = int(dataR.shape[2] - 0.5 * sfreq)  # Time points to keep\n",
    "\n",
    "# Trim the last 0.5 seconds\n",
    "dataR_trimmed = dataR[:, :, :n_times_to_keep]\n",
    "dataMF_trimmed = dataMF[:, :, :n_times_to_keep]\n",
    "\n",
    "# print(dataR[:, 1, :])\n",
    "\n",
    "# Compute mean and standard deviation of the trimmed resting signal\n",
    "mean_R = np.mean(dataR_trimmed, axis=(0, 2))  # Mean across epochs and time\n",
    "std_R = np.std(dataR_trimmed, axis=(0, 2))    # Std across epochs and time\n",
    "\n",
    "# Concatenate both signals along epochs\n",
    "data_combined = np.concatenate([dataR_trimmed, dataMF_trimmed], axis=0)\n",
    "\n",
    "# Normalize the concatenated signal\n",
    "#data_normalized = (data_combined)\n",
    "data_normalized = (data_combined - mean_R[None, :, None]) / std_R[None, :, None] #Z score\n",
    "\n",
    "# Concatenate all epochs along the time axis for each channel\n",
    "data_normalized_ch = np.hstack(data_normalized)\n",
    "\n",
    "# print(np.shape(data_normalized_ch))\n",
    "\n",
    "# Assuming data_normalized_ch has shape (n_channels, total_time)\n",
    "n_channels, total_time = data_normalized_ch.shape\n",
    "time = np.linspace(0, total_time / sfreq, total_time)  # Generate time axis based on sampling frequency\n",
    "electrode_names = fileR.ch_names  # List of electrode names\n",
    "\n",
    "concat_point = dataR_trimmed.shape[0] * dataR_trimmed.shape[2] / sfreq  # Total time of dataR_trimmed\n",
    "# Create the heatmap\n",
    "plt.figure(figsize=(12, 6))\n",
    "plt.imshow(data_normalized_ch, aspect='auto', cmap='viridis', \n",
    "           extent=[time[0], time[-1], n_channels, 0],vmin=-1,vmax=3)  # - 1e-5 , 1e-5\n",
    "\n",
    "# Add a vertical line at the concatenation point\n",
    "plt.axvline(x=concat_point, color='black', linestyle='--', label='Concatenation Point')\n",
    "\n",
    "# Add labels and colorbar\n",
    "plt.colorbar(label='Z-score')\n",
    "plt.xlabel('Time (s)')\n",
    "plt.ylabel('Electrodes')\n",
    "plt.title('Heatmap of Normalized Signal Amplitudes')\n",
    "plt.yticks(ticks=np.arange(len(electrode_names)), labels=electrode_names)\n",
    "plt.show()"
   ]
  },
  {
   "cell_type": "code",
   "execution_count": 11,
   "metadata": {},
   "outputs": [],
   "source": [
    "# Slice the data to include only the first 5 electrodes\n",
    "data_subset = data_normalized_ch[:5, :]  # Shape: (5, total_time)\n",
    "\n",
    "# Create a figure with subplots for heatmap and signals\n",
    "fig, axes = plt.subplots(6, 1, figsize=(12, 12), gridspec_kw={'height_ratios': [5, 1, 1, 1, 1, 1]}, sharex=True)\n",
    "\n",
    "# Plot the heatmap in the first subplot\n",
    "im = axes[0].imshow(data_subset, aspect='auto', cmap='viridis',\n",
    "                    extent=[time[0], time[-1], 5, 0],vmin=-1,vmax=3)\n",
    "# Add a vertical line at the concatenation point\n",
    "axes[0].axvline(x=concat_point, color='black', linestyle='--', label='Concatenation Point')\n",
    "\n",
    "axes[0].set_ylabel('Electrodes')\n",
    "axes[0].set_title('Heatmap of Normalized Signal Amplitudes (First 5 Electrodes)')\n",
    "axes[0].yaxis.set_ticks(range(5))\n",
    "axes[0].set_yticklabels([f'Electrode {i+1}' for i in range(5)])\n",
    "plt.colorbar(im, ax=axes[0], orientation='horizontal', fraction=0.05, pad=0.1, label='Amplitude (normalized)')\n",
    "\n",
    "# Plot signals in the next 5 subplots (one for each electrode)\n",
    "for i in range(5):\n",
    "    axes[i + 1].plot(time, data_subset[i], label=f'Electrode {i+1}')\n",
    "    axes[i + 1].set_ylabel('Amplitude')\n",
    "    axes[i + 1].legend(loc='upper right')\n",
    "\n",
    "# Set the x-axis label for the last subplot\n",
    "axes[-1].set_xlabel('Time (s)')\n",
    "\n",
    "plt.tight_layout()\n",
    "plt.show()\n"
   ]
  },
  {
   "cell_type": "markdown",
   "metadata": {},
   "source": [
    "## For several Files signal vs time"
   ]
  },
  {
   "cell_type": "code",
   "execution_count": 12,
   "metadata": {},
   "outputs": [
    {
     "name": "stdout",
     "output_type": "stream",
     "text": [
      "Reading c:\\Users\\afcad\\Downloads\\Sujeto6_R_processed.fif ...\n",
      "    Found the data of interest:\n",
      "        t =   -2500.00 ...    2500.00 ms\n",
      "        0 CTF compensation matrices available\n"
     ]
    },
    {
     "name": "stderr",
     "output_type": "stream",
     "text": [
      "C:\\Users\\afcad\\AppData\\Local\\Temp\\ipykernel_24308\\2736908868.py:17: RuntimeWarning: This filename (Sujeto6_R_processed.fif) does not conform to MNE naming conventions. All epochs files should end with -epo.fif, -epo.fif.gz, _epo.fif or _epo.fif.gz\n",
      "  fileR = mne.read_epochs(file_R)\n"
     ]
    },
    {
     "name": "stdout",
     "output_type": "stream",
     "text": [
      "Not setting metadata\n",
      "72 matching events found\n",
      "No baseline correction applied\n",
      "0 projection items activated\n",
      "Reading c:\\Users\\afcad\\Downloads\\Sujeto6_MF_processed.fif ...\n"
     ]
    },
    {
     "name": "stderr",
     "output_type": "stream",
     "text": [
      "C:\\Users\\afcad\\AppData\\Local\\Temp\\ipykernel_24308\\2736908868.py:18: RuntimeWarning: This filename (Sujeto6_MF_processed.fif) does not conform to MNE naming conventions. All epochs files should end with -epo.fif, -epo.fif.gz, _epo.fif or _epo.fif.gz\n",
      "  fileMF = mne.read_epochs(file_MF)\n"
     ]
    },
    {
     "name": "stdout",
     "output_type": "stream",
     "text": [
      "    Found the data of interest:\n",
      "        t =   -2500.00 ...    2500.00 ms\n",
      "        0 CTF compensation matrices available\n",
      "Not setting metadata\n",
      "107 matching events found\n",
      "No baseline correction applied\n",
      "0 projection items activated\n",
      "Reading c:\\Users\\afcad\\Downloads\\Sujeto9_R_processed.fif ...\n",
      "    Found the data of interest:\n",
      "        t =   -2500.00 ...    2500.00 ms\n",
      "        0 CTF compensation matrices available\n"
     ]
    },
    {
     "name": "stderr",
     "output_type": "stream",
     "text": [
      "C:\\Users\\afcad\\AppData\\Local\\Temp\\ipykernel_24308\\2736908868.py:17: RuntimeWarning: This filename (Sujeto9_R_processed.fif) does not conform to MNE naming conventions. All epochs files should end with -epo.fif, -epo.fif.gz, _epo.fif or _epo.fif.gz\n",
      "  fileR = mne.read_epochs(file_R)\n"
     ]
    },
    {
     "name": "stdout",
     "output_type": "stream",
     "text": [
      "Not setting metadata\n",
      "60 matching events found\n",
      "No baseline correction applied\n",
      "0 projection items activated\n",
      "Reading c:\\Users\\afcad\\Downloads\\Sujeto9_MF_processed.fif ...\n"
     ]
    },
    {
     "name": "stderr",
     "output_type": "stream",
     "text": [
      "C:\\Users\\afcad\\AppData\\Local\\Temp\\ipykernel_24308\\2736908868.py:18: RuntimeWarning: This filename (Sujeto9_MF_processed.fif) does not conform to MNE naming conventions. All epochs files should end with -epo.fif, -epo.fif.gz, _epo.fif or _epo.fif.gz\n",
      "  fileMF = mne.read_epochs(file_MF)\n"
     ]
    },
    {
     "name": "stdout",
     "output_type": "stream",
     "text": [
      "    Found the data of interest:\n",
      "        t =   -2500.00 ...    2500.00 ms\n",
      "        0 CTF compensation matrices available\n",
      "Not setting metadata\n",
      "143 matching events found\n",
      "No baseline correction applied\n",
      "0 projection items activated\n",
      "Reading c:\\Users\\afcad\\Downloads\\Sujeto11_R_processed.fif ...\n",
      "    Found the data of interest:\n",
      "        t =   -2500.00 ...    2500.00 ms\n",
      "        0 CTF compensation matrices available\n"
     ]
    },
    {
     "name": "stderr",
     "output_type": "stream",
     "text": [
      "C:\\Users\\afcad\\AppData\\Local\\Temp\\ipykernel_24308\\2736908868.py:17: RuntimeWarning: This filename (Sujeto11_R_processed.fif) does not conform to MNE naming conventions. All epochs files should end with -epo.fif, -epo.fif.gz, _epo.fif or _epo.fif.gz\n",
      "  fileR = mne.read_epochs(file_R)\n"
     ]
    },
    {
     "name": "stdout",
     "output_type": "stream",
     "text": [
      "Not setting metadata\n",
      "53 matching events found\n",
      "No baseline correction applied\n",
      "0 projection items activated\n",
      "Reading c:\\Users\\afcad\\Downloads\\Sujeto11_MF_processed.fif ...\n"
     ]
    },
    {
     "name": "stderr",
     "output_type": "stream",
     "text": [
      "C:\\Users\\afcad\\AppData\\Local\\Temp\\ipykernel_24308\\2736908868.py:18: RuntimeWarning: This filename (Sujeto11_MF_processed.fif) does not conform to MNE naming conventions. All epochs files should end with -epo.fif, -epo.fif.gz, _epo.fif or _epo.fif.gz\n",
      "  fileMF = mne.read_epochs(file_MF)\n"
     ]
    },
    {
     "name": "stdout",
     "output_type": "stream",
     "text": [
      "    Found the data of interest:\n",
      "        t =   -2500.00 ...    2500.00 ms\n",
      "        0 CTF compensation matrices available\n",
      "Not setting metadata\n",
      "107 matching events found\n",
      "No baseline correction applied\n",
      "0 projection items activated\n",
      "Reading c:\\Users\\afcad\\Downloads\\Sujeto14_R_processed.fif ...\n",
      "    Found the data of interest:\n",
      "        t =   -2500.00 ...    2500.00 ms\n",
      "        0 CTF compensation matrices available\n"
     ]
    },
    {
     "name": "stderr",
     "output_type": "stream",
     "text": [
      "C:\\Users\\afcad\\AppData\\Local\\Temp\\ipykernel_24308\\2736908868.py:17: RuntimeWarning: This filename (Sujeto14_R_processed.fif) does not conform to MNE naming conventions. All epochs files should end with -epo.fif, -epo.fif.gz, _epo.fif or _epo.fif.gz\n",
      "  fileR = mne.read_epochs(file_R)\n"
     ]
    },
    {
     "name": "stdout",
     "output_type": "stream",
     "text": [
      "Not setting metadata\n",
      "71 matching events found\n",
      "No baseline correction applied\n",
      "0 projection items activated\n",
      "Reading c:\\Users\\afcad\\Downloads\\Sujeto14_MF_processed.fif ...\n"
     ]
    },
    {
     "name": "stderr",
     "output_type": "stream",
     "text": [
      "C:\\Users\\afcad\\AppData\\Local\\Temp\\ipykernel_24308\\2736908868.py:18: RuntimeWarning: This filename (Sujeto14_MF_processed.fif) does not conform to MNE naming conventions. All epochs files should end with -epo.fif, -epo.fif.gz, _epo.fif or _epo.fif.gz\n",
      "  fileMF = mne.read_epochs(file_MF)\n"
     ]
    },
    {
     "name": "stdout",
     "output_type": "stream",
     "text": [
      "    Found the data of interest:\n",
      "        t =   -2500.00 ...    2500.00 ms\n",
      "        0 CTF compensation matrices available\n",
      "Not setting metadata\n",
      "141 matching events found\n",
      "No baseline correction applied\n",
      "0 projection items activated\n",
      "Reading c:\\Users\\afcad\\Downloads\\Sujeto16_R_processed.fif ...\n"
     ]
    },
    {
     "name": "stderr",
     "output_type": "stream",
     "text": [
      "C:\\Users\\afcad\\AppData\\Local\\Temp\\ipykernel_24308\\2736908868.py:17: RuntimeWarning: This filename (Sujeto16_R_processed.fif) does not conform to MNE naming conventions. All epochs files should end with -epo.fif, -epo.fif.gz, _epo.fif or _epo.fif.gz\n",
      "  fileR = mne.read_epochs(file_R)\n"
     ]
    },
    {
     "name": "stdout",
     "output_type": "stream",
     "text": [
      "    Found the data of interest:\n",
      "        t =   -2500.00 ...    2500.00 ms\n",
      "        0 CTF compensation matrices available\n",
      "Not setting metadata\n",
      "52 matching events found\n",
      "No baseline correction applied\n",
      "0 projection items activated\n",
      "Reading c:\\Users\\afcad\\Downloads\\Sujeto16_MF_processed.fif ...\n"
     ]
    },
    {
     "name": "stderr",
     "output_type": "stream",
     "text": [
      "C:\\Users\\afcad\\AppData\\Local\\Temp\\ipykernel_24308\\2736908868.py:18: RuntimeWarning: This filename (Sujeto16_MF_processed.fif) does not conform to MNE naming conventions. All epochs files should end with -epo.fif, -epo.fif.gz, _epo.fif or _epo.fif.gz\n",
      "  fileMF = mne.read_epochs(file_MF)\n"
     ]
    },
    {
     "name": "stdout",
     "output_type": "stream",
     "text": [
      "    Found the data of interest:\n",
      "        t =   -2500.00 ...    2500.00 ms\n",
      "        0 CTF compensation matrices available\n",
      "Not setting metadata\n",
      "106 matching events found\n",
      "No baseline correction applied\n",
      "0 projection items activated\n",
      "Reading c:\\Users\\afcad\\Downloads\\Sujeto18_R_processed.fif ...\n",
      "    Found the data of interest:\n",
      "        t =   -2500.00 ...    2500.00 ms\n",
      "        0 CTF compensation matrices available\n"
     ]
    },
    {
     "name": "stderr",
     "output_type": "stream",
     "text": [
      "C:\\Users\\afcad\\AppData\\Local\\Temp\\ipykernel_24308\\2736908868.py:17: RuntimeWarning: This filename (Sujeto18_R_processed.fif) does not conform to MNE naming conventions. All epochs files should end with -epo.fif, -epo.fif.gz, _epo.fif or _epo.fif.gz\n",
      "  fileR = mne.read_epochs(file_R)\n"
     ]
    },
    {
     "name": "stdout",
     "output_type": "stream",
     "text": [
      "Not setting metadata\n",
      "44 matching events found\n",
      "No baseline correction applied\n",
      "0 projection items activated\n",
      "Reading c:\\Users\\afcad\\Downloads\\Sujeto18_MF_processed.fif ...\n"
     ]
    },
    {
     "name": "stderr",
     "output_type": "stream",
     "text": [
      "C:\\Users\\afcad\\AppData\\Local\\Temp\\ipykernel_24308\\2736908868.py:18: RuntimeWarning: This filename (Sujeto18_MF_processed.fif) does not conform to MNE naming conventions. All epochs files should end with -epo.fif, -epo.fif.gz, _epo.fif or _epo.fif.gz\n",
      "  fileMF = mne.read_epochs(file_MF)\n"
     ]
    },
    {
     "name": "stdout",
     "output_type": "stream",
     "text": [
      "    Found the data of interest:\n",
      "        t =   -2500.00 ...    2500.00 ms\n",
      "        0 CTF compensation matrices available\n",
      "Not setting metadata\n",
      "137 matching events found\n",
      "No baseline correction applied\n",
      "0 projection items activated\n",
      "Reading c:\\Users\\afcad\\Downloads\\Sujeto19_R_processed.fif ...\n",
      "    Found the data of interest:\n"
     ]
    },
    {
     "name": "stderr",
     "output_type": "stream",
     "text": [
      "C:\\Users\\afcad\\AppData\\Local\\Temp\\ipykernel_24308\\2736908868.py:17: RuntimeWarning: This filename (Sujeto19_R_processed.fif) does not conform to MNE naming conventions. All epochs files should end with -epo.fif, -epo.fif.gz, _epo.fif or _epo.fif.gz\n",
      "  fileR = mne.read_epochs(file_R)\n"
     ]
    },
    {
     "name": "stdout",
     "output_type": "stream",
     "text": [
      "        t =   -2500.00 ...    2500.00 ms\n",
      "        0 CTF compensation matrices available\n",
      "Not setting metadata\n",
      "68 matching events found\n",
      "No baseline correction applied\n",
      "0 projection items activated\n",
      "Reading c:\\Users\\afcad\\Downloads\\Sujeto19_MF_processed.fif ...\n"
     ]
    },
    {
     "name": "stderr",
     "output_type": "stream",
     "text": [
      "C:\\Users\\afcad\\AppData\\Local\\Temp\\ipykernel_24308\\2736908868.py:18: RuntimeWarning: This filename (Sujeto19_MF_processed.fif) does not conform to MNE naming conventions. All epochs files should end with -epo.fif, -epo.fif.gz, _epo.fif or _epo.fif.gz\n",
      "  fileMF = mne.read_epochs(file_MF)\n"
     ]
    },
    {
     "name": "stdout",
     "output_type": "stream",
     "text": [
      "    Found the data of interest:\n",
      "        t =   -2500.00 ...    2500.00 ms\n",
      "        0 CTF compensation matrices available\n",
      "Not setting metadata\n",
      "143 matching events found\n",
      "No baseline correction applied\n",
      "0 projection items activated\n",
      "Reading c:\\Users\\afcad\\Downloads\\Sujeto20_R_processed.fif ...\n"
     ]
    },
    {
     "name": "stderr",
     "output_type": "stream",
     "text": [
      "C:\\Users\\afcad\\AppData\\Local\\Temp\\ipykernel_24308\\2736908868.py:17: RuntimeWarning: This filename (Sujeto20_R_processed.fif) does not conform to MNE naming conventions. All epochs files should end with -epo.fif, -epo.fif.gz, _epo.fif or _epo.fif.gz\n",
      "  fileR = mne.read_epochs(file_R)\n"
     ]
    },
    {
     "name": "stdout",
     "output_type": "stream",
     "text": [
      "    Found the data of interest:\n",
      "        t =   -2500.00 ...    2500.00 ms\n",
      "        0 CTF compensation matrices available\n",
      "Not setting metadata\n",
      "71 matching events found\n",
      "No baseline correction applied\n",
      "0 projection items activated\n",
      "Reading c:\\Users\\afcad\\Downloads\\Sujeto20_MF_processed.fif ...\n"
     ]
    },
    {
     "name": "stderr",
     "output_type": "stream",
     "text": [
      "C:\\Users\\afcad\\AppData\\Local\\Temp\\ipykernel_24308\\2736908868.py:18: RuntimeWarning: This filename (Sujeto20_MF_processed.fif) does not conform to MNE naming conventions. All epochs files should end with -epo.fif, -epo.fif.gz, _epo.fif or _epo.fif.gz\n",
      "  fileMF = mne.read_epochs(file_MF)\n"
     ]
    },
    {
     "name": "stdout",
     "output_type": "stream",
     "text": [
      "    Found the data of interest:\n",
      "        t =   -2500.00 ...    2500.00 ms\n",
      "        0 CTF compensation matrices available\n",
      "Not setting metadata\n",
      "141 matching events found\n",
      "No baseline correction applied\n",
      "0 projection items activated\n"
     ]
    },
    {
     "name": "stderr",
     "output_type": "stream",
     "text": [
      "C:\\Users\\afcad\\AppData\\Local\\Temp\\ipykernel_24308\\2736908868.py:17: RuntimeWarning: This filename (Sujeto21_R_processed.fif) does not conform to MNE naming conventions. All epochs files should end with -epo.fif, -epo.fif.gz, _epo.fif or _epo.fif.gz\n",
      "  fileR = mne.read_epochs(file_R)\n"
     ]
    },
    {
     "name": "stdout",
     "output_type": "stream",
     "text": [
      "Reading c:\\Users\\afcad\\Downloads\\Sujeto21_R_processed.fif ...\n",
      "    Found the data of interest:\n",
      "        t =   -2500.00 ...    2500.00 ms\n",
      "        0 CTF compensation matrices available\n",
      "Not setting metadata\n",
      "47 matching events found\n",
      "No baseline correction applied\n",
      "0 projection items activated\n",
      "Reading c:\\Users\\afcad\\Downloads\\Sujeto21_MF_processed.fif ...\n"
     ]
    },
    {
     "name": "stderr",
     "output_type": "stream",
     "text": [
      "C:\\Users\\afcad\\AppData\\Local\\Temp\\ipykernel_24308\\2736908868.py:18: RuntimeWarning: This filename (Sujeto21_MF_processed.fif) does not conform to MNE naming conventions. All epochs files should end with -epo.fif, -epo.fif.gz, _epo.fif or _epo.fif.gz\n",
      "  fileMF = mne.read_epochs(file_MF)\n"
     ]
    },
    {
     "name": "stdout",
     "output_type": "stream",
     "text": [
      "    Found the data of interest:\n",
      "        t =   -2500.00 ...    2500.00 ms\n",
      "        0 CTF compensation matrices available\n",
      "Not setting metadata\n",
      "106 matching events found\n",
      "No baseline correction applied\n",
      "0 projection items activated\n",
      "Reading c:\\Users\\afcad\\Downloads\\Sujeto22_R_processed.fif ...\n"
     ]
    },
    {
     "name": "stderr",
     "output_type": "stream",
     "text": [
      "C:\\Users\\afcad\\AppData\\Local\\Temp\\ipykernel_24308\\2736908868.py:17: RuntimeWarning: This filename (Sujeto22_R_processed.fif) does not conform to MNE naming conventions. All epochs files should end with -epo.fif, -epo.fif.gz, _epo.fif or _epo.fif.gz\n",
      "  fileR = mne.read_epochs(file_R)\n"
     ]
    },
    {
     "name": "stdout",
     "output_type": "stream",
     "text": [
      "    Found the data of interest:\n",
      "        t =   -2500.00 ...    2500.00 ms\n",
      "        0 CTF compensation matrices available\n",
      "Not setting metadata\n",
      "67 matching events found\n",
      "No baseline correction applied\n",
      "0 projection items activated\n",
      "Reading c:\\Users\\afcad\\Downloads\\Sujeto22_MF_processed.fif ...\n"
     ]
    },
    {
     "name": "stderr",
     "output_type": "stream",
     "text": [
      "C:\\Users\\afcad\\AppData\\Local\\Temp\\ipykernel_24308\\2736908868.py:18: RuntimeWarning: This filename (Sujeto22_MF_processed.fif) does not conform to MNE naming conventions. All epochs files should end with -epo.fif, -epo.fif.gz, _epo.fif or _epo.fif.gz\n",
      "  fileMF = mne.read_epochs(file_MF)\n"
     ]
    },
    {
     "name": "stdout",
     "output_type": "stream",
     "text": [
      "    Found the data of interest:\n",
      "        t =   -2500.00 ...    2500.00 ms\n",
      "        0 CTF compensation matrices available\n",
      "Not setting metadata\n",
      "138 matching events found\n",
      "No baseline correction applied\n",
      "0 projection items activated\n"
     ]
    }
   ],
   "source": [
    "import mne\n",
    "import numpy as np\n",
    "import matplotlib.pyplot as plt\n",
    "\n",
    "def process_and_visualize_eeg(file_R, file_MF):\n",
    "    \"\"\"\n",
    "    Process two EEG files (resting and MF signals), normalize them, and create a heatmap.\n",
    "    \n",
    "    Parameters:\n",
    "        file_R (str): Filepath to the resting signal (.fif).\n",
    "        file_MF (str): Filepath to the MF signal (.fif).\n",
    "        \n",
    "    Returns:\n",
    "        np.ndarray: Normalized concatenated matrix of shape (n_channels, total_time).\n",
    "    \"\"\"\n",
    "    # Load files\n",
    "    fileR = mne.read_epochs(file_R)  \n",
    "    fileMF = mne.read_epochs(file_MF)\n",
    "\n",
    "    # Extract data\n",
    "    dataR = fileR.get_data()  # Shape: (n_epochs, n_channels, n_times)\n",
    "    dataMF = fileMF.get_data()  # Shape: (n_epochs, n_channels, n_times)\n",
    "\n",
    "    # Sampling frequency\n",
    "    sfreq = fileR.info['sfreq']  # Sampling frequency (Hz)\n",
    "    n_times_to_keep = int(dataR.shape[2] - 0.5 * sfreq)  # Time points to keep\n",
    "\n",
    "    # Trim the last 0.5 seconds\n",
    "    dataR_trimmed = dataR[:, :, :n_times_to_keep]\n",
    "    dataMF_trimmed = dataMF[:, :, :n_times_to_keep]\n",
    "\n",
    "    # Compute mean and standard deviation of the trimmed resting signal\n",
    "    mean_R = np.mean(dataR_trimmed, axis=(0, 2))  # Mean across epochs and time\n",
    "    std_R = np.std(dataR_trimmed, axis=(0, 2))    # Std across epochs and time\n",
    "\n",
    "    # Concatenate both signals along epochs\n",
    "    data_combined = np.concatenate([dataR_trimmed, dataMF_trimmed], axis=0)\n",
    "\n",
    "    # Normalize the concatenated signal\n",
    "    data_normalized = (data_combined - mean_R[None, :, None]) / std_R[None, :, None]\n",
    "\n",
    "    # Concatenate all epochs along the time axis for each channel\n",
    "    data_normalized_ch = np.hstack(data_normalized)\n",
    "\n",
    "    # Visualization\n",
    "    n_channels, total_time = data_normalized_ch.shape\n",
    "    time = np.linspace(0, total_time / sfreq, total_time)  # Generate time axis based on sampling frequency\n",
    "    electrode_names = fileR.ch_names  # List of electrode names\n",
    "\n",
    "    # Compute concatenation point in seconds\n",
    "    concat_point = dataR_trimmed.shape[0] * dataR_trimmed.shape[2] / sfreq  # Total time of dataR_trimmed\n",
    "\n",
    "    # # Create the heatmap\n",
    "    # plt.figure(figsize=(12, 6))\n",
    "    # plt.imshow(data_normalized_ch, aspect='auto', cmap='viridis', \n",
    "    #            extent=[time[0], time[-1], n_channels, 0],vmin=-1,vmax=3)  # Extent flips the y-axis to show the first channel at the top\n",
    "\n",
    "    # # Add a vertical line at the concatenation point\n",
    "    # plt.axvline(x=concat_point, color='black', linestyle='--', label='Concatenation Point')\n",
    "\n",
    "    # # Add labels and colorbar\n",
    "    # plt.colorbar(label='Z-score')\n",
    "    # plt.xlabel('Time (s)')\n",
    "    # plt.ylabel('Electrodes')\n",
    "    # plt.title('Heatmap of Normalized Signal Amplitudes')\n",
    "    # plt.yticks(ticks=np.arange(len(electrode_names)), labels=electrode_names)\n",
    "    # plt.legend()\n",
    "    # plt.show()\n",
    "\n",
    "    return data_normalized_ch\n",
    "\n",
    "file_pairs = [\n",
    "    ('Sujeto6_R_processed.fif', 'Sujeto6_MF_processed.fif'),\n",
    "    ('Sujeto9_R_processed.fif', 'Sujeto9_MF_processed.fif'),\n",
    "    ('Sujeto11_R_processed.fif', 'Sujeto11_MF_processed.fif'),\n",
    "    ('Sujeto14_R_processed.fif', 'Sujeto14_MF_processed.fif'),\n",
    "    ('Sujeto16_R_processed.fif', 'Sujeto16_MF_processed.fif'),\n",
    "    ('Sujeto18_R_processed.fif', 'Sujeto18_MF_processed.fif'),\n",
    "    ('Sujeto19_R_processed.fif', 'Sujeto19_MF_processed.fif'),\n",
    "    ('Sujeto20_R_processed.fif', 'Sujeto20_MF_processed.fif'),\n",
    "    ('Sujeto21_R_processed.fif', 'Sujeto21_MF_processed.fif'),\n",
    "    ('Sujeto22_R_processed.fif', 'Sujeto22_MF_processed.fif')\n",
    "]\n",
    "\n",
    "# Initialize list to store the matrices\n",
    "normalized_matrices = []\n",
    "\n",
    "# Process each pair of files\n",
    "for file_R, file_MF in file_pairs:\n",
    "    normalized_matrix = process_and_visualize_eeg(file_R, file_MF)\n",
    "    normalized_matrices.append(normalized_matrix)\n",
    "\n",
    "# Now calculate the average matrix\n",
    "# To ensure that all matrices are the same shape, we trim them to the smallest one\n",
    "min_shape = min([matrix.shape[1] for matrix in normalized_matrices])  # Smallest time dimension\n",
    "normalized_matrices_trimmed = [matrix[:, :min_shape] for matrix in normalized_matrices]\n",
    "\n",
    "# Calculate the average across all matrices\n",
    "average_matrix = np.mean(np.array(normalized_matrices_trimmed), axis=0)\n",
    "\n",
    "# Create the heatmap for the average matrix\n",
    "plt.figure(figsize=(12, 6))\n",
    "plt.imshow(average_matrix, aspect='auto', cmap='viridis', \n",
    "            vmin=-1, vmax=1)  # Extent flips the y-axis to show the first channel at the top\n",
    "plt.colorbar(label='Z-score')\n",
    "plt.xlabel('Time (s)')\n",
    "plt.ylabel('Electrodes')\n",
    "plt.title('Heatmap of Average Normalized Signal Amplitudes')\n",
    "plt.show()\n",
    "\n"
   ]
  }
 ],
 "metadata": {
  "kernelspec": {
   "display_name": "MIND",
   "language": "python",
   "name": "python3"
  },
  "language_info": {
   "codemirror_mode": {
    "name": "ipython",
    "version": 3
   },
   "file_extension": ".py",
   "mimetype": "text/x-python",
   "name": "python",
   "nbconvert_exporter": "python",
   "pygments_lexer": "ipython3",
   "version": "3.10.14"
  }
 },
 "nbformat": 4,
 "nbformat_minor": 2
}
