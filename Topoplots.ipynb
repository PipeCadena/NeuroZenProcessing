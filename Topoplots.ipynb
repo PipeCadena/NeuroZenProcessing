{
 "cells": [
  {
   "cell_type": "code",
   "execution_count": 35,
   "metadata": {},
   "outputs": [
    {
     "name": "stdout",
     "output_type": "stream",
     "text": [
      "Reading c:\\Users\\afcad\\Downloads\\Sujeto14_R_processed.fif ...\n",
      "    Found the data of interest:\n"
     ]
    },
    {
     "name": "stderr",
     "output_type": "stream",
     "text": [
      "C:\\Users\\afcad\\AppData\\Local\\Temp\\ipykernel_580\\1828133967.py:14: RuntimeWarning: This filename (Sujeto14_R_processed.fif) does not conform to MNE naming conventions. All epochs files should end with -epo.fif, -epo.fif.gz, _epo.fif or _epo.fif.gz\n",
      "  fileR = mne.read_epochs(str_FileName_R)\n"
     ]
    },
    {
     "name": "stdout",
     "output_type": "stream",
     "text": [
      "        t =   -2500.00 ...    2500.00 ms\n",
      "        0 CTF compensation matrices available\n",
      "Not setting metadata\n",
      "71 matching events found\n",
      "No baseline correction applied\n",
      "0 projection items activated\n",
      "Reading c:\\Users\\afcad\\Downloads\\Sujeto14_MF_processed.fif ...\n"
     ]
    },
    {
     "name": "stderr",
     "output_type": "stream",
     "text": [
      "C:\\Users\\afcad\\AppData\\Local\\Temp\\ipykernel_580\\1828133967.py:15: RuntimeWarning: This filename (Sujeto14_MF_processed.fif) does not conform to MNE naming conventions. All epochs files should end with -epo.fif, -epo.fif.gz, _epo.fif or _epo.fif.gz\n",
      "  fileMF = mne.read_epochs(str_FileName_MF)\n"
     ]
    },
    {
     "name": "stdout",
     "output_type": "stream",
     "text": [
      "    Found the data of interest:\n",
      "        t =   -2500.00 ...    2500.00 ms\n",
      "        0 CTF compensation matrices available\n",
      "Not setting metadata\n",
      "141 matching events found\n",
      "No baseline correction applied\n",
      "0 projection items activated\n"
     ]
    }
   ],
   "source": [
    "import scipy.io as sio\n",
    "import numpy as np\n",
    "from matplotlib.colors import ListedColormap\n",
    "from scipy.stats import pearsonr\n",
    "import seaborn as sn\n",
    "import mne\n",
    "import matplotlib.pyplot as plt\n",
    "%matplotlib qt\n",
    "%gui qt\n",
    "\n",
    "# File names for the baseline and signal files\n",
    "str_FileName_R = 'Sujeto14_R_processed.fif'  # Name of the baseline file\n",
    "str_FileName_MF = 'Sujeto14_MF_processed.fif'  # Name of the signal file\n",
    "fileR = mne.read_epochs(str_FileName_R)  \n",
    "fileMF = mne.read_epochs(str_FileName_MF)\n",
    "\n",
    "# Get the data \n",
    "data_R = fileR.get_data()  # Shape: (n_epochs, n_channels, n_times)\n",
    "data_MF = fileMF.get_data()\n",
    "normalized_data = np.zeros_like(data_MF)"
   ]
  },
  {
   "cell_type": "code",
   "execution_count": 38,
   "metadata": {},
   "outputs": [
    {
     "name": "stdout",
     "output_type": "stream",
     "text": [
      "Effective window size : 2.000 (s)\n",
      "Effective window size : 2.000 (s)\n"
     ]
    }
   ],
   "source": [
    "import numpy as np\n",
    "import mne\n",
    "import matplotlib.pyplot as plt\n",
    "\n",
    "# Compute PSDs using Welch's method\n",
    "psd_R, freqs_R = fileR.compute_psd(method='welch', fmin=0.5, fmax=30).get_data(return_freqs=True)\n",
    "psd_MF, freqs_MF = fileMF.compute_psd(method='welch', fmin=0.5, fmax=30).get_data(return_freqs=True)\n",
    "\n",
    "# Average PSD across all epochs\n",
    "avg_psd_R = np.mean(psd_R, axis=0)  # Shape: (n_channels, n_freqs)\n",
    "avg_psd_MF = np.mean(psd_MF, axis=0)  # Shape: (n_channels, n_freqs)\n",
    "\n",
    "# Define frequency bands\n",
    "frequency_bands = {\n",
    "    'Delta': (0.5, 4),\n",
    "    'Theta': (4, 8),\n",
    "    'Alpha': (8, 12),\n",
    "    'Beta': (12, 18),\n",
    "    'Fast Beta': (18, 30),\n",
    "}\n",
    "\n",
    "# Plot topomaps for resting state\n",
    "info = fileR.info  # Use the baseline's info for channel locations\n",
    "n_bands = len(frequency_bands)\n",
    "fig, axes = plt.subplots(1, n_bands, figsize=(15, 5))  # Create a row of subplots\n",
    "\n",
    "for ax, (band, (fmin, fmax)) in zip(axes, frequency_bands.items()):\n",
    "    # Find indices for the current band\n",
    "    band_idx = np.logical_and(freqs_R >= fmin, freqs_R <= fmax)\n",
    "    \n",
    "    # Average the power across the band\n",
    "    band_power_R = np.mean(avg_psd_R[:, band_idx], axis=1)  # Mean over the frequency axis\n",
    "    \n",
    "    # Plot the topomap\n",
    "    im, _ = mne.viz.plot_topomap(\n",
    "        band_power_R, \n",
    "        info, \n",
    "        axes=ax, \n",
    "        cmap='jet', \n",
    "        show=False  # Disable immediate showing to allow subplot arrangement\n",
    "    )\n",
    "    ax.set_title(f'{band} Band (Resting)')\n",
    "    cbar = plt.colorbar(im, ax=ax, shrink=0.6, orientation='horizontal', pad=0.1)\n",
    "    cbar.set_label('Power')\n",
    "    \n",
    "plt.suptitle(\"Resting State Topomap\", fontsize=16)\n",
    "plt.tight_layout()\n",
    "plt.show()\n",
    "\n",
    "# Plot topomaps for mindfulness state\n",
    "fig, axes = plt.subplots(1, n_bands, figsize=(15, 5))  # Create a row of subplots\n",
    "\n",
    "for ax, (band, (fmin, fmax)) in zip(axes, frequency_bands.items()):\n",
    "    # Find indices for the current band\n",
    "    band_idx = np.logical_and(freqs_MF >= fmin, freqs_MF <= fmax)\n",
    "    \n",
    "    # Average the power across the band\n",
    "    band_power_MF = np.mean(avg_psd_MF[:, band_idx], axis=1)  # Mean over the frequency axis\n",
    "    \n",
    "    # Plot the topomap\n",
    "    im, _ = mne.viz.plot_topomap(\n",
    "        band_power_MF, \n",
    "        info, \n",
    "        axes=ax, \n",
    "        cmap='jet', \n",
    "        show=False  # Disable immediate showing to allow subplot arrangement\n",
    "    )\n",
    "    ax.set_title(f'{band} Band (Mindfulness)')\n",
    "    cbar = plt.colorbar(im, ax=ax, shrink=0.6, orientation='horizontal', pad=0.1)\n",
    "    cbar.set_label('Power')\n",
    "\n",
    "plt.suptitle(\"Mindfulness State Topomap\", fontsize=16)\n",
    "plt.tight_layout()\n",
    "plt.show()"
   ]
  },
  {
   "cell_type": "code",
   "execution_count": 39,
   "metadata": {},
   "outputs": [
    {
     "name": "stdout",
     "output_type": "stream",
     "text": [
      "Effective window size : 2.000 (s)\n",
      "Effective window size : 2.000 (s)\n"
     ]
    }
   ],
   "source": [
    "import numpy as np\n",
    "import mne\n",
    "import matplotlib.pyplot as plt\n",
    "\n",
    "# Compute PSDs using Welch's method\n",
    "psd_R, freqs_R = fileR.compute_psd(method='welch', fmin=0.5, fmax=30).get_data(return_freqs=True)\n",
    "psd_MF, freqs_MF = fileMF.compute_psd(method='welch', fmin=0.5, fmax=30).get_data(return_freqs=True)\n",
    "\n",
    "# Average PSD across all windows (mean over epochs axis, axis=0)\n",
    "avg_psd_R = np.mean(psd_R, axis=0)  # Shape: (n_channels, n_freqs)\n",
    "avg_psd_MF = np.mean(psd_MF, axis=0)  # Shape: (n_channels, n_freqs)\n",
    "\n",
    "# Calculate the difference\n",
    "difference_psd = avg_psd_MF - avg_psd_R  # Shape: (n_channels, n_freqs)\n",
    "\n",
    "# Define frequency bands\n",
    "frequency_bands = {\n",
    "    'Delta': (0.5, 4),\n",
    "    'Theta': (4, 8),\n",
    "    'Alpha': (8, 12),\n",
    "    'Beta': (12, 18),\n",
    "    'Fast Beta': (18, 30),\n",
    "}\n",
    "\n",
    "# Calculate global min and max across all bands\n",
    "global_min = np.inf\n",
    "global_max = -np.inf\n",
    "\n",
    "for fmin, fmax in frequency_bands.values():\n",
    "    band_idx = np.logical_and(freqs_R >= fmin, freqs_R <= fmax)\n",
    "    band_power_difference = np.mean(difference_psd[:, band_idx], axis=1)  # Mean over frequencies\n",
    "    global_min = min(global_min, band_power_difference.min())\n",
    "    global_max = max(global_max, band_power_difference.max())\n",
    "\n",
    "# Extract band-specific differences and prepare the figure\n",
    "info = fileR.info  # Use the baseline's info for channel locations\n",
    "n_bands = len(frequency_bands)\n",
    "fig, axes = plt.subplots(1, n_bands, figsize=(15, 5))  # Create a row of subplots\n",
    "\n",
    "for ax, (band, (fmin, fmax)) in zip(axes, frequency_bands.items()):\n",
    "    # Find indices for the current band\n",
    "    band_idx = np.logical_and(freqs_R >= fmin, freqs_R <= fmax)\n",
    "    \n",
    "    # Average the difference across the band\n",
    "    band_power_difference = np.mean(difference_psd[:, band_idx], axis=1)  # Mean over the frequency axis\n",
    "    \n",
    "    # Plot the topomap with consistent vlim\n",
    "    im, _ = mne.viz.plot_topomap(\n",
    "        band_power_difference, \n",
    "        info, \n",
    "        axes=ax, \n",
    "        cmap='jet', \n",
    "        show=False,  # Disable immediate showing to allow subplot arrangement\n",
    "        names=fileR.ch_names,\n",
    "    #   vlim=(global_min, global_max)  # Use global min and max\n",
    "    )\n",
    "    ax.set_title(f\"{band} Band\")\n",
    "    # Add a colorbar for the subplot\n",
    "    cbar = plt.colorbar(im, ax=ax, shrink=0.6, orientation='horizontal', pad=0.1)\n",
    "    cbar.set_label('Power Difference')\n",
    "\n",
    "# Finalize and display the figure\n",
    "plt.suptitle(\"Mindfulness Difference\", fontsize=16)\n",
    "plt.tight_layout()\n",
    "plt.show()\n"
   ]
  },
  {
   "cell_type": "code",
   "execution_count": 5,
   "metadata": {},
   "outputs": [],
   "source": [
    "# import numpy as np\n",
    "# import mne\n",
    "# import matplotlib.pyplot as plt\n",
    "\n",
    "# # Compute PSDs using Welch's method\n",
    "# psd_R, freqs_R = fileR.compute_psd(method='welch', fmin=0.5, fmax=30).get_data(return_freqs=True)\n",
    "# psd_MF, freqs_MF = fileMF.compute_psd(method='welch', fmin=0.5, fmax=30).get_data(return_freqs=True)\n",
    "\n",
    "# # Normalize PSDs (relative power for each channel)\n",
    "# total_power_R = np.sum(psd_R, axis=2, keepdims=True)  # Total power across frequencies per channel for R\n",
    "# total_power_MF = np.sum(psd_MF, axis=2, keepdims=True)  # Total power across frequencies per channel for MF\n",
    "# relative_psd_R = psd_R / total_power_R  # Shape: (n_epochs, n_channels, n_freqs)\n",
    "# relative_psd_MF = psd_MF / total_power_MF\n",
    "\n",
    "# # Average relative PSDs across epochs\n",
    "# avg_relative_psd_R = np.mean(relative_psd_R, axis=0)  # Shape: (n_channels, n_freqs)\n",
    "# avg_relative_psd_MF = np.mean(relative_psd_MF, axis=0)  # Shape: (n_channels, n_freqs)\n",
    "\n",
    "# # Compute the relative power difference\n",
    "# relative_power_difference = avg_relative_psd_MF - avg_relative_psd_R  # Shape: (n_channels, n_freqs)\n",
    "\n",
    "# # Define frequency bands\n",
    "# frequency_bands = {\n",
    "#     'Delta': (0.5, 4),\n",
    "#     'Theta': (4, 8),\n",
    "#     'Alpha': (8, 12),\n",
    "#     'Beta': (12, 18),\n",
    "#     'FastBeta': (18, 30),\n",
    "# }\n",
    "\n",
    "# # Prepare the figure for topomaps\n",
    "# info = fileR.info  # Use the baseline's info for channel locations\n",
    "# n_bands = len(frequency_bands)\n",
    "# fig, axes = plt.subplots(1, n_bands, figsize=(15, 5))  # Create a row of subplots\n",
    "\n",
    "# for ax, (band, (fmin, fmax)) in zip(axes, frequency_bands.items()):\n",
    "#     # Find indices for the current band\n",
    "#     band_idx = np.logical_and(freqs_R >= fmin, freqs_R <= fmax)\n",
    "    \n",
    "#     # Average the relative power difference across the band\n",
    "#     band_relative_power_diff = np.mean(relative_power_difference[:, band_idx], axis=1)  # Mean over frequencies\n",
    "   \n",
    "#     # Plot the topomap with a colorbar\n",
    "#     im, _ = mne.viz.plot_topomap(\n",
    "#         band_relative_power_diff, \n",
    "#         info, \n",
    "#         axes=ax, \n",
    "#         cmap='jet', \n",
    "#         show=False  # Disable immediate showing to allow subplot arrangement\n",
    "#     )\n",
    "#     ax.set_title(f'{band} Band')\n",
    "    \n",
    "#     # Add a colorbar for the subplot\n",
    "#     cbar = plt.colorbar(im, ax=ax, shrink=0.6, orientation='horizontal', pad=0.1)\n",
    "#     cbar.set_label('Relative Power Difference')\n",
    "\n",
    "# # Finalize and display the figure\n",
    "# plt.tight_layout()\n",
    "# plt.show()"
   ]
  },
  {
   "cell_type": "markdown",
   "metadata": {},
   "source": [
    "## Resting, Mind, DiffNormalized"
   ]
  },
  {
   "cell_type": "code",
   "execution_count": 24,
   "metadata": {},
   "outputs": [
    {
     "name": "stdout",
     "output_type": "stream",
     "text": [
      "Effective window size : 2.000 (s)\n",
      "Effective window size : 2.000 (s)\n"
     ]
    },
    {
     "name": "stderr",
     "output_type": "stream",
     "text": [
      "C:\\Users\\afcad\\AppData\\Local\\Temp\\ipykernel_580\\413725337.py:75: UserWarning: This figure includes Axes that are not compatible with tight_layout, so results might be incorrect.\n",
      "  plt.tight_layout()\n"
     ]
    }
   ],
   "source": [
    "import numpy as np\n",
    "import mne\n",
    "import matplotlib.pyplot as plt\n",
    "\n",
    "# Compute PSDs using Welch's method\n",
    "psd_R, freqs_R = fileR.compute_psd(method='welch', fmin=0.5, fmax=30).get_data(return_freqs=True)\n",
    "psd_MF, freqs_MF = fileMF.compute_psd(method='welch', fmin=0.5, fmax=30).get_data(return_freqs=True)\n",
    "\n",
    "# Normalize PSDs (relative power for each channel)\n",
    "total_power_R = np.sum(psd_R, axis=2, keepdims=True)  # Total power across frequencies per channel for R\n",
    "total_power_MF = np.sum(psd_MF, axis=2, keepdims=True)  # Total power across frequencies per channel for MF\n",
    "relative_psd_R = psd_R / total_power_R  # Shape: (n_epochs, n_channels, n_freqs)\n",
    "relative_psd_MF = psd_MF / total_power_MF\n",
    "\n",
    "# Average relative PSDs across epochs\n",
    "avg_relative_psd_R = np.mean(relative_psd_R, axis=0)  # Shape: (n_channels, n_freqs)\n",
    "avg_relative_psd_MF = np.mean(relative_psd_MF, axis=0)  # Shape: (n_channels, n_freqs)\n",
    "\n",
    "# Compute the relative power difference\n",
    "relative_power_difference = avg_relative_psd_MF - avg_relative_psd_R  # Shape: (n_channels, n_freqs)\n",
    "\n",
    "# Define frequency bands\n",
    "frequency_bands = {\n",
    "    'Delta': (0.5, 4),\n",
    "    'Theta': (4, 8),\n",
    "    'Alpha': (8, 12),\n",
    "    'Beta': (12, 18),\n",
    "    'FastBeta': (18, 30),\n",
    "}\n",
    "\n",
    "# Prepare the figure for topomaps\n",
    "info = fileR.info  # Use the baseline's info for channel locations\n",
    "n_bands = len(frequency_bands)\n",
    "fig, axes = plt.subplots(3, n_bands, figsize=(11, 12),gridspec_kw={'wspace': 0.0001, 'hspace': 0.0001})  # Adjust spacing  # Create a grid of subplots\n",
    "\n",
    "for row, data, title in zip(\n",
    "    range(3),\n",
    "    [avg_relative_psd_R, avg_relative_psd_MF, relative_power_difference],\n",
    "    ['Resting', 'Mindfulness', 'Normalized Difference']\n",
    "):\n",
    "    for ax, (band, (fmin, fmax)) in zip(axes[row], frequency_bands.items()):\n",
    "        # Find indices for the current band\n",
    "        band_idx = np.logical_and(freqs_R >= fmin, freqs_R <= fmax)\n",
    "        \n",
    "        # Average the data across the band\n",
    "        band_data = np.mean(data[:, band_idx], axis=1)  # Mean over frequencies\n",
    "        \n",
    "        # Plot the topomap with a colorbar\n",
    "        im, _ = mne.viz.plot_topomap(\n",
    "            band_data, \n",
    "            info, \n",
    "            axes=ax, \n",
    "            cmap='jet', \n",
    "            show=False,  # Disable immediate showing to allow subplot arrangement\n",
    "        )\n",
    "        ax.set_title(f'{band} Band' if row == 0 else '')\n",
    "        \n",
    "        # Add a colorbar for the subplot\n",
    "        cbar = plt.colorbar(im, ax=ax, shrink=0.6, orientation='horizontal', pad=0.1)\n",
    "        if row == 2:  # Label the colorbar only for the last row\n",
    "            cbar.set_label(title)\n",
    "\n",
    "# Add row titles\n",
    "for ax, title in zip(axes[:, 0], ['Resting', 'Mindfulness', 'Normalized Difference']):\n",
    "    ax.annotate(\n",
    "        title, \n",
    "        xy=(0, 0.5), \n",
    "        xytext=(-ax.yaxis.labelpad - 5, 0),\n",
    "        xycoords=ax.yaxis.label, \n",
    "        textcoords='offset points',\n",
    "        size='large', ha='right', va='center', rotation=90\n",
    "    )\n",
    "\n",
    "# Finalize and display the figure\n",
    "plt.tight_layout()\n",
    "plt.show()"
   ]
  },
  {
   "cell_type": "markdown",
   "metadata": {},
   "source": [
    "## For Several files (relative)"
   ]
  },
  {
   "cell_type": "code",
   "execution_count": 88,
   "metadata": {},
   "outputs": [
    {
     "name": "stdout",
     "output_type": "stream",
     "text": [
      "Reading c:\\Users\\afcad\\Downloads\\Sujeto6_R_processed.fif ...\n"
     ]
    },
    {
     "name": "stdout",
     "output_type": "stream",
     "text": [
      "    Found the data of interest:\n",
      "        t =   -2500.00 ...    2500.00 ms\n",
      "        0 CTF compensation matrices available\n"
     ]
    },
    {
     "name": "stderr",
     "output_type": "stream",
     "text": [
      "C:\\Users\\afcad\\AppData\\Local\\Temp\\ipykernel_580\\2898196739.py:19: RuntimeWarning: This filename (Sujeto6_R_processed.fif) does not conform to MNE naming conventions. All epochs files should end with -epo.fif, -epo.fif.gz, _epo.fif or _epo.fif.gz\n",
      "  fileR = mne.read_epochs(str_FileName_R)\n"
     ]
    },
    {
     "name": "stdout",
     "output_type": "stream",
     "text": [
      "Not setting metadata\n",
      "72 matching events found\n",
      "No baseline correction applied\n",
      "0 projection items activated\n",
      "Reading c:\\Users\\afcad\\Downloads\\Sujeto6_MF_processed.fif ...\n",
      "    Found the data of interest:\n",
      "        t =   -2500.00 ...    2500.00 ms\n",
      "        0 CTF compensation matrices available\n"
     ]
    },
    {
     "name": "stderr",
     "output_type": "stream",
     "text": [
      "C:\\Users\\afcad\\AppData\\Local\\Temp\\ipykernel_580\\2898196739.py:20: RuntimeWarning: This filename (Sujeto6_MF_processed.fif) does not conform to MNE naming conventions. All epochs files should end with -epo.fif, -epo.fif.gz, _epo.fif or _epo.fif.gz\n",
      "  fileMF = mne.read_epochs(str_FileName_MF)\n"
     ]
    },
    {
     "name": "stdout",
     "output_type": "stream",
     "text": [
      "Not setting metadata\n",
      "107 matching events found\n",
      "No baseline correction applied\n",
      "0 projection items activated\n",
      "Effective window size : 2.000 (s)\n",
      "Effective window size : 2.000 (s)\n",
      "Reading c:\\Users\\afcad\\Downloads\\Sujeto9_R_processed.fif ...\n",
      "    Found the data of interest:\n",
      "        t =   -2500.00 ...    2500.00 ms\n",
      "        0 CTF compensation matrices available\n",
      "Not setting metadata\n"
     ]
    },
    {
     "name": "stderr",
     "output_type": "stream",
     "text": [
      "C:\\Users\\afcad\\AppData\\Local\\Temp\\ipykernel_580\\2898196739.py:19: RuntimeWarning: This filename (Sujeto9_R_processed.fif) does not conform to MNE naming conventions. All epochs files should end with -epo.fif, -epo.fif.gz, _epo.fif or _epo.fif.gz\n",
      "  fileR = mne.read_epochs(str_FileName_R)\n"
     ]
    },
    {
     "name": "stdout",
     "output_type": "stream",
     "text": [
      "60 matching events found\n",
      "No baseline correction applied\n",
      "0 projection items activated\n",
      "Reading c:\\Users\\afcad\\Downloads\\Sujeto9_MF_processed.fif ...\n",
      "    Found the data of interest:\n",
      "        t =   -2500.00 ...    2500.00 ms\n",
      "        0 CTF compensation matrices available\n"
     ]
    },
    {
     "name": "stderr",
     "output_type": "stream",
     "text": [
      "C:\\Users\\afcad\\AppData\\Local\\Temp\\ipykernel_580\\2898196739.py:20: RuntimeWarning: This filename (Sujeto9_MF_processed.fif) does not conform to MNE naming conventions. All epochs files should end with -epo.fif, -epo.fif.gz, _epo.fif or _epo.fif.gz\n",
      "  fileMF = mne.read_epochs(str_FileName_MF)\n"
     ]
    },
    {
     "name": "stdout",
     "output_type": "stream",
     "text": [
      "Not setting metadata\n",
      "143 matching events found\n",
      "No baseline correction applied\n",
      "0 projection items activated\n",
      "Effective window size : 2.000 (s)\n",
      "Effective window size : 2.000 (s)\n",
      "Reading c:\\Users\\afcad\\Downloads\\Sujeto11_R_processed.fif ...\n",
      "    Found the data of interest:\n",
      "        t =   -2500.00 ...    2500.00 ms\n",
      "        0 CTF compensation matrices available\n"
     ]
    },
    {
     "name": "stderr",
     "output_type": "stream",
     "text": [
      "C:\\Users\\afcad\\AppData\\Local\\Temp\\ipykernel_580\\2898196739.py:19: RuntimeWarning: This filename (Sujeto11_R_processed.fif) does not conform to MNE naming conventions. All epochs files should end with -epo.fif, -epo.fif.gz, _epo.fif or _epo.fif.gz\n",
      "  fileR = mne.read_epochs(str_FileName_R)\n"
     ]
    },
    {
     "name": "stdout",
     "output_type": "stream",
     "text": [
      "Not setting metadata\n",
      "53 matching events found\n",
      "No baseline correction applied\n",
      "0 projection items activated\n",
      "Reading c:\\Users\\afcad\\Downloads\\Sujeto11_MF_processed.fif ...\n",
      "    Found the data of interest:\n",
      "        t =   -2500.00 ...    2500.00 ms\n",
      "        0 CTF compensation matrices available\n"
     ]
    },
    {
     "name": "stderr",
     "output_type": "stream",
     "text": [
      "C:\\Users\\afcad\\AppData\\Local\\Temp\\ipykernel_580\\2898196739.py:20: RuntimeWarning: This filename (Sujeto11_MF_processed.fif) does not conform to MNE naming conventions. All epochs files should end with -epo.fif, -epo.fif.gz, _epo.fif or _epo.fif.gz\n",
      "  fileMF = mne.read_epochs(str_FileName_MF)\n"
     ]
    },
    {
     "name": "stdout",
     "output_type": "stream",
     "text": [
      "Not setting metadata\n",
      "107 matching events found\n",
      "No baseline correction applied\n",
      "0 projection items activated\n",
      "Effective window size : 2.000 (s)\n",
      "Effective window size : 2.000 (s)\n",
      "Reading c:\\Users\\afcad\\Downloads\\Sujeto14_R_processed.fif ...\n",
      "    Found the data of interest:\n",
      "        t =   -2500.00 ...    2500.00 ms\n",
      "        0 CTF compensation matrices available\n"
     ]
    },
    {
     "name": "stderr",
     "output_type": "stream",
     "text": [
      "C:\\Users\\afcad\\AppData\\Local\\Temp\\ipykernel_580\\2898196739.py:19: RuntimeWarning: This filename (Sujeto14_R_processed.fif) does not conform to MNE naming conventions. All epochs files should end with -epo.fif, -epo.fif.gz, _epo.fif or _epo.fif.gz\n",
      "  fileR = mne.read_epochs(str_FileName_R)\n"
     ]
    },
    {
     "name": "stdout",
     "output_type": "stream",
     "text": [
      "Not setting metadata\n",
      "71 matching events found\n",
      "No baseline correction applied\n",
      "0 projection items activated\n",
      "Reading c:\\Users\\afcad\\Downloads\\Sujeto14_MF_processed.fif ...\n",
      "    Found the data of interest:\n",
      "        t =   -2500.00 ...    2500.00 ms\n",
      "        0 CTF compensation matrices available\n"
     ]
    },
    {
     "name": "stderr",
     "output_type": "stream",
     "text": [
      "C:\\Users\\afcad\\AppData\\Local\\Temp\\ipykernel_580\\2898196739.py:20: RuntimeWarning: This filename (Sujeto14_MF_processed.fif) does not conform to MNE naming conventions. All epochs files should end with -epo.fif, -epo.fif.gz, _epo.fif or _epo.fif.gz\n",
      "  fileMF = mne.read_epochs(str_FileName_MF)\n"
     ]
    },
    {
     "name": "stdout",
     "output_type": "stream",
     "text": [
      "Not setting metadata\n",
      "141 matching events found\n",
      "No baseline correction applied\n",
      "0 projection items activated\n",
      "Effective window size : 2.000 (s)\n",
      "Effective window size : 2.000 (s)\n",
      "Reading c:\\Users\\afcad\\Downloads\\Sujeto16_R_processed.fif ...\n",
      "    Found the data of interest:\n",
      "        t =   -2500.00 ...    2500.00 ms\n",
      "        0 CTF compensation matrices available\n"
     ]
    },
    {
     "name": "stderr",
     "output_type": "stream",
     "text": [
      "C:\\Users\\afcad\\AppData\\Local\\Temp\\ipykernel_580\\2898196739.py:19: RuntimeWarning: This filename (Sujeto16_R_processed.fif) does not conform to MNE naming conventions. All epochs files should end with -epo.fif, -epo.fif.gz, _epo.fif or _epo.fif.gz\n",
      "  fileR = mne.read_epochs(str_FileName_R)\n"
     ]
    },
    {
     "name": "stdout",
     "output_type": "stream",
     "text": [
      "Not setting metadata\n",
      "52 matching events found\n",
      "No baseline correction applied\n",
      "0 projection items activated\n",
      "Reading c:\\Users\\afcad\\Downloads\\Sujeto16_MF_processed.fif ...\n",
      "    Found the data of interest:\n",
      "        t =   -2500.00 ...    2500.00 ms\n",
      "        0 CTF compensation matrices available\n"
     ]
    },
    {
     "name": "stderr",
     "output_type": "stream",
     "text": [
      "C:\\Users\\afcad\\AppData\\Local\\Temp\\ipykernel_580\\2898196739.py:20: RuntimeWarning: This filename (Sujeto16_MF_processed.fif) does not conform to MNE naming conventions. All epochs files should end with -epo.fif, -epo.fif.gz, _epo.fif or _epo.fif.gz\n",
      "  fileMF = mne.read_epochs(str_FileName_MF)\n"
     ]
    },
    {
     "name": "stdout",
     "output_type": "stream",
     "text": [
      "Not setting metadata\n",
      "106 matching events found\n",
      "No baseline correction applied\n",
      "0 projection items activated\n",
      "Effective window size : 2.000 (s)\n",
      "Effective window size : 2.000 (s)\n",
      "Reading c:\\Users\\afcad\\Downloads\\Sujeto6_R_processed.fif ...\n",
      "    Found the data of interest:\n",
      "        t =   -2500.00 ...    2500.00 ms\n",
      "        0 CTF compensation matrices available\n"
     ]
    },
    {
     "name": "stderr",
     "output_type": "stream",
     "text": [
      "C:\\Users\\afcad\\AppData\\Local\\Temp\\ipykernel_580\\2898196739.py:66: RuntimeWarning: This filename (Sujeto6_R_processed.fif) does not conform to MNE naming conventions. All epochs files should end with -epo.fif, -epo.fif.gz, _epo.fif or _epo.fif.gz\n",
      "  info = mne.read_epochs(file_pairs[0][0]).info  # Use the info from the first resting state file\n"
     ]
    },
    {
     "name": "stdout",
     "output_type": "stream",
     "text": [
      "Not setting metadata\n",
      "72 matching events found\n",
      "No baseline correction applied\n",
      "0 projection items activated\n"
     ]
    },
    {
     "name": "stderr",
     "output_type": "stream",
     "text": [
      "C:\\Users\\afcad\\AppData\\Local\\Temp\\ipykernel_580\\2898196739.py:110: UserWarning: This figure includes Axes that are not compatible with tight_layout, so results might be incorrect.\n",
      "  plt.tight_layout()\n"
     ]
    }
   ],
   "source": [
    "def topoplotsAverage(file_pairs, fmin=0.5, fmax=30):\n",
    "    \"\"\"\n",
    "    Compute and plot the average PSDs and their differences for multiple pairs of EEG files,\n",
    "    ensuring all subplots share the same color scale.\n",
    "\n",
    "    Parameters:\n",
    "    - file_pairs: List of tuples [(fileR1, fileMF1), (fileR2, fileMF2), ...]\n",
    "                  Each tuple contains a resting state file and a mindfulness state file.\n",
    "    - fmin: Minimum frequency for PSD calculation (default: 0.5 Hz).\n",
    "    - fmax: Maximum frequency for PSD calculation (default: 30 Hz).\n",
    "\n",
    "    Returns:\n",
    "    - None (plots the results).\n",
    "    \"\"\"\n",
    "    avg_psd_R_all = []\n",
    "    avg_psd_MF_all = []\n",
    "\n",
    "    for str_FileName_R, str_FileName_MF in file_pairs:\n",
    "        fileR = mne.read_epochs(str_FileName_R)  \n",
    "        fileMF = mne.read_epochs(str_FileName_MF)\n",
    "        \n",
    "        # Compute PSDs using Welch's method\n",
    "        psd_R, freqs_R = fileR.compute_psd(method='welch', fmin=fmin, fmax=fmax).get_data(return_freqs=True)\n",
    "        psd_MF, freqs_MF = fileMF.compute_psd(method='welch', fmin=fmin, fmax=fmax).get_data(return_freqs=True)\n",
    "\n",
    "        # Normalize PSDs (relative power for each channel)\n",
    "        total_power_R = np.sum(psd_R, axis=2, keepdims=True)\n",
    "        total_power_MF = np.sum(psd_MF, axis=2, keepdims=True)\n",
    "        relative_psd_R = psd_R / total_power_R\n",
    "        relative_psd_MF = psd_MF / total_power_MF\n",
    "\n",
    "        # Average relative PSDs across epochs\n",
    "        avg_relative_psd_R = np.mean(relative_psd_R, axis=0)\n",
    "        avg_relative_psd_MF = np.mean(relative_psd_MF, axis=0)\n",
    "\n",
    "        avg_psd_R_all.append(avg_relative_psd_R)\n",
    "        avg_psd_MF_all.append(avg_relative_psd_MF)\n",
    "\n",
    "    # Compute grand averages across all pairs\n",
    "    avg_psd_R_all = np.mean(avg_psd_R_all, axis=0)\n",
    "    avg_psd_MF_all = np.mean(avg_psd_MF_all, axis=0)\n",
    "\n",
    "    # Compute the relative power difference\n",
    "    relative_power_difference = avg_psd_MF_all - avg_psd_R_all\n",
    "\n",
    "    # Define frequency bands\n",
    "    frequency_bands = {\n",
    "        'Delta': (0.5, 4),\n",
    "        'Theta': (4, 8),\n",
    "        'Alpha': (8, 12),\n",
    "        'Beta': (12, 18),\n",
    "        'FastBeta': (18, 30),\n",
    "    }\n",
    "\n",
    "    # Calculate global min and max for the color scale across all bands\n",
    "    global_min = np.inf\n",
    "    global_max = -np.inf\n",
    "\n",
    "    for fmin, fmax in frequency_bands.values():\n",
    "        band_idx = np.logical_and(freqs_R >= fmin, freqs_R <= fmax)\n",
    "        band_data = np.mean(relative_power_difference[:, band_idx], axis=1)  # Average over band frequencies\n",
    "        global_min = min(global_min, band_data.min())\n",
    "        global_max = max(global_max, band_data.max())\n",
    "\n",
    "    # Prepare the figure for topomaps\n",
    "    info = mne.read_epochs(file_pairs[0][0]).info  # Use the info from the first resting state file\n",
    "    n_bands = len(frequency_bands)\n",
    "    fig, axes = plt.subplots(3, n_bands, figsize=(11, 12), gridspec_kw={'wspace': 0.4, 'hspace': 0.4})\n",
    "\n",
    "    for row, data, title in zip(\n",
    "        range(3),\n",
    "        [avg_psd_R_all, avg_psd_MF_all, relative_power_difference],\n",
    "        ['Resting', 'Mindfulness', 'Normalized Difference']\n",
    "    ):\n",
    "        for ax, (band, (fmin, fmax)) in zip(axes[row], frequency_bands.items()):\n",
    "            # Find indices for the current band\n",
    "            band_idx = np.logical_and(freqs_R >= fmin, freqs_R <= fmax)\n",
    "\n",
    "            # Average the data across the band\n",
    "            band_data = np.mean(data[:, band_idx], axis=1)\n",
    "\n",
    "            # Plot the topomap with shared vmin and vmax\n",
    "            im, _ = mne.viz.plot_topomap(\n",
    "                band_data,\n",
    "                info,\n",
    "                axes=ax,\n",
    "                cmap='jet',\n",
    "                show=False,\n",
    "                #vlim=(global_min, global_max) \n",
    "            )\n",
    "            ax.set_title(f'{band} Band' if row == 0 else '')\n",
    "\n",
    "            # Add a colorbar for the subplot\n",
    "            cbar = plt.colorbar(im, ax=ax, shrink=0.6, orientation='horizontal', pad=0.1)\n",
    "            if row == 2:\n",
    "                cbar.set_label(title)\n",
    "\n",
    "    # Add row titles\n",
    "    for ax, title in zip(axes[:, 0], ['Resting', 'Mindfulness', 'Normalized Difference']):\n",
    "        ax.annotate(\n",
    "            title,\n",
    "            xy=(0, 0.5),\n",
    "            xytext=(-ax.yaxis.labelpad - 5, 0),\n",
    "            xycoords=ax.yaxis.label,\n",
    "            textcoords='offset points',\n",
    "            size='large', ha='right', va='center', rotation=90\n",
    "        )\n",
    "\n",
    "    # Finalize and display the figure\n",
    "    plt.tight_layout()\n",
    "    plt.show()\n",
    "\n",
    "file_pairs = [\n",
    "    ('Sujeto6_R_processed.fif', 'Sujeto6_MF_processed.fif'),\n",
    "    ('Sujeto9_R_processed.fif', 'Sujeto9_MF_processed.fif'),\n",
    "    ('Sujeto11_R_processed.fif', 'Sujeto11_MF_processed.fif'),\n",
    "    ('Sujeto14_R_processed.fif', 'Sujeto14_MF_processed.fif'),\n",
    "    ('Sujeto16_R_processed.fif', 'Sujeto16_MF_processed.fif'),\n",
    "]\n",
    "\n",
    "topoplotsAverage(file_pairs)\n"
   ]
  },
  {
   "cell_type": "markdown",
   "metadata": {},
   "source": [
    "## Flattenizado"
   ]
  },
  {
   "cell_type": "code",
   "execution_count": 52,
   "metadata": {},
   "outputs": [
    {
     "name": "stdout",
     "output_type": "stream",
     "text": [
      "(61, 728222)\n"
     ]
    }
   ],
   "source": [
    "import mne\n",
    "import numpy as np\n",
    "import matplotlib.pyplot as plt\n",
    "\n",
    "# Extract data\n",
    "dataR = fileR.get_data()  # Shape: (n_epochs, n_channels, n_times)\n",
    "dataMF = fileMF.get_data()  # Shape: (n_epochs, n_channels, n_times)\n",
    "\n",
    "# Sampling frequency\n",
    "sfreq = fileR.info['sfreq']  # Sampling frequency (Hz)\n",
    "n_times_to_keep = int(dataR.shape[2] - 0.5 * sfreq)  # Time points to keep\n",
    "\n",
    "# Trim the last 0.5 seconds\n",
    "dataR_trimmed = dataR[:, :, :n_times_to_keep]\n",
    "dataMF_trimmed = dataMF[:, :, :n_times_to_keep]\n",
    "\n",
    "# Compute mean and standard deviation of the trimmed resting signal\n",
    "mean_R = np.mean(dataR_trimmed, axis=(0, 2))  # Mean across epochs and time\n",
    "std_R = np.std(dataR_trimmed, axis=(0, 2))    # Std across epochs and time\n",
    "\n",
    "# Concatenate both signals along epochs\n",
    "data_combined = np.concatenate([dataR_trimmed, dataMF_trimmed], axis=0)\n",
    "\n",
    "# Normalize the concatenated signal\n",
    "data_normalized = (data_combined - mean_R[None, :, None]) / std_R[None, :, None]\n",
    "\n",
    "# Concatenate all epochs along the time axis for each channel\n",
    "data_normalized_ch = np.hstack(data_normalized)\n",
    "\n",
    "print(np.shape(data_normalized_ch))\n",
    "\n",
    "# Assuming data_normalized_ch has shape (n_channels, total_time)\n",
    "n_channels, total_time = data_normalized_ch.shape\n",
    "time = np.linspace(0, total_time / sfreq, total_time)  # Generate time axis based on sampling frequency\n",
    "electrode_names = fileR.ch_names  # List of electrode names\n",
    "\n",
    "concat_point = dataR_trimmed.shape[0] * dataR_trimmed.shape[2] / sfreq  # Total time of dataR_trimmed\n",
    "# Create the heatmap\n",
    "plt.figure(figsize=(12, 6))\n",
    "plt.imshow(data_normalized_ch, aspect='auto', cmap='viridis', \n",
    "           extent=[time[0], time[-1], n_channels, 0])  # Extent flips the y-axis to show first channel at the top\n",
    "\n",
    "# Add a vertical line at the concatenation point\n",
    "plt.axvline(x=concat_point, color='black', linestyle='--', label='Concatenation Point')\n",
    "\n",
    "# Add labels and colorbar\n",
    "plt.colorbar(label='Z-score')\n",
    "plt.xlabel('Time (s)')\n",
    "plt.ylabel('Electrodes')\n",
    "plt.title('Heatmap of Normalized Signal Amplitudes')\n",
    "plt.yticks(ticks=np.arange(len(electrode_names)), labels=electrode_names)\n",
    "plt.show()"
   ]
  },
  {
   "cell_type": "code",
   "execution_count": 53,
   "metadata": {},
   "outputs": [],
   "source": [
    "# Slice the data to include only the first 5 electrodes\n",
    "data_subset = data_normalized_ch[:5, :]  # Shape: (5, total_time)\n",
    "\n",
    "# Create a figure with subplots for heatmap and signals\n",
    "fig, axes = plt.subplots(6, 1, figsize=(12, 12), gridspec_kw={'height_ratios': [5, 1, 1, 1, 1, 1]}, sharex=True)\n",
    "\n",
    "# Plot the heatmap in the first subplot\n",
    "im = axes[0].imshow(data_subset, aspect='auto', cmap='viridis',\n",
    "                    extent=[time[0], time[-1], 5, 0])\n",
    "# Add a vertical line at the concatenation point\n",
    "axes[0].axvline(x=concat_point, color='black', linestyle='--', label='Concatenation Point')\n",
    "\n",
    "axes[0].set_ylabel('Electrodes')\n",
    "axes[0].set_title('Heatmap of Normalized Signal Amplitudes (First 5 Electrodes)')\n",
    "axes[0].yaxis.set_ticks(range(5))\n",
    "axes[0].set_yticklabels([f'Electrode {i+1}' for i in range(5)])\n",
    "plt.colorbar(im, ax=axes[0], orientation='horizontal', fraction=0.05, pad=0.1, label='Amplitude (normalized)')\n",
    "\n",
    "# Plot signals in the next 5 subplots (one for each electrode)\n",
    "for i in range(5):\n",
    "    axes[i + 1].plot(time, data_subset[i], label=f'Electrode {i+1}')\n",
    "    axes[i + 1].set_ylabel('Amplitude')\n",
    "    axes[i + 1].legend(loc='upper right')\n",
    "\n",
    "# Set the x-axis label for the last subplot\n",
    "axes[-1].set_xlabel('Time (s)')\n",
    "\n",
    "plt.tight_layout()\n",
    "plt.show()\n"
   ]
  },
  {
   "cell_type": "markdown",
   "metadata": {},
   "source": [
    "## For several Files signal vs time"
   ]
  },
  {
   "cell_type": "code",
   "execution_count": 80,
   "metadata": {},
   "outputs": [
    {
     "name": "stdout",
     "output_type": "stream",
     "text": [
      "Processing Sujeto6_R_processed.fif and Sujeto6_MF_processed.fif...\n",
      "Reading c:\\Users\\afcad\\Downloads\\Sujeto6_R_processed.fif ...\n"
     ]
    },
    {
     "name": "stderr",
     "output_type": "stream",
     "text": [
      "C:\\Users\\afcad\\AppData\\Local\\Temp\\ipykernel_580\\29792418.py:17: RuntimeWarning: This filename (Sujeto6_R_processed.fif) does not conform to MNE naming conventions. All epochs files should end with -epo.fif, -epo.fif.gz, _epo.fif or _epo.fif.gz\n",
      "  fileR = mne.read_epochs(file_R)\n"
     ]
    },
    {
     "name": "stdout",
     "output_type": "stream",
     "text": [
      "    Found the data of interest:\n",
      "        t =   -2500.00 ...    2500.00 ms\n",
      "        0 CTF compensation matrices available\n",
      "Not setting metadata\n",
      "72 matching events found\n",
      "No baseline correction applied\n",
      "0 projection items activated\n",
      "Reading c:\\Users\\afcad\\Downloads\\Sujeto6_MF_processed.fif ...\n"
     ]
    },
    {
     "name": "stderr",
     "output_type": "stream",
     "text": [
      "C:\\Users\\afcad\\AppData\\Local\\Temp\\ipykernel_580\\29792418.py:18: RuntimeWarning: This filename (Sujeto6_MF_processed.fif) does not conform to MNE naming conventions. All epochs files should end with -epo.fif, -epo.fif.gz, _epo.fif or _epo.fif.gz\n",
      "  fileMF = mne.read_epochs(file_MF)\n"
     ]
    },
    {
     "name": "stdout",
     "output_type": "stream",
     "text": [
      "    Found the data of interest:\n",
      "        t =   -2500.00 ...    2500.00 ms\n",
      "        0 CTF compensation matrices available\n",
      "Not setting metadata\n",
      "107 matching events found\n",
      "No baseline correction applied\n",
      "0 projection items activated\n",
      "Processing Sujeto9_R_processed.fif and Sujeto9_MF_processed.fif...\n",
      "Reading c:\\Users\\afcad\\Downloads\\Sujeto9_R_processed.fif ...\n",
      "    Found the data of interest:\n"
     ]
    },
    {
     "name": "stderr",
     "output_type": "stream",
     "text": [
      "C:\\Users\\afcad\\AppData\\Local\\Temp\\ipykernel_580\\29792418.py:17: RuntimeWarning: This filename (Sujeto9_R_processed.fif) does not conform to MNE naming conventions. All epochs files should end with -epo.fif, -epo.fif.gz, _epo.fif or _epo.fif.gz\n",
      "  fileR = mne.read_epochs(file_R)\n"
     ]
    },
    {
     "name": "stdout",
     "output_type": "stream",
     "text": [
      "        t =   -2500.00 ...    2500.00 ms\n",
      "        0 CTF compensation matrices available\n",
      "Not setting metadata\n",
      "60 matching events found\n",
      "No baseline correction applied\n",
      "0 projection items activated\n",
      "Reading c:\\Users\\afcad\\Downloads\\Sujeto9_MF_processed.fif ...\n"
     ]
    },
    {
     "name": "stderr",
     "output_type": "stream",
     "text": [
      "C:\\Users\\afcad\\AppData\\Local\\Temp\\ipykernel_580\\29792418.py:18: RuntimeWarning: This filename (Sujeto9_MF_processed.fif) does not conform to MNE naming conventions. All epochs files should end with -epo.fif, -epo.fif.gz, _epo.fif or _epo.fif.gz\n",
      "  fileMF = mne.read_epochs(file_MF)\n"
     ]
    },
    {
     "name": "stdout",
     "output_type": "stream",
     "text": [
      "    Found the data of interest:\n",
      "        t =   -2500.00 ...    2500.00 ms\n",
      "        0 CTF compensation matrices available\n",
      "Not setting metadata\n",
      "143 matching events found\n",
      "No baseline correction applied\n",
      "0 projection items activated\n",
      "Processing Sujeto11_R_processed.fif and Sujeto11_MF_processed.fif...\n",
      "Reading c:\\Users\\afcad\\Downloads\\Sujeto11_R_processed.fif ...\n",
      "    Found the data of interest:\n",
      "        t =   -2500.00 ...    2500.00 ms\n",
      "        0 CTF compensation matrices available\n"
     ]
    },
    {
     "name": "stderr",
     "output_type": "stream",
     "text": [
      "C:\\Users\\afcad\\AppData\\Local\\Temp\\ipykernel_580\\29792418.py:17: RuntimeWarning: This filename (Sujeto11_R_processed.fif) does not conform to MNE naming conventions. All epochs files should end with -epo.fif, -epo.fif.gz, _epo.fif or _epo.fif.gz\n",
      "  fileR = mne.read_epochs(file_R)\n"
     ]
    },
    {
     "name": "stdout",
     "output_type": "stream",
     "text": [
      "Not setting metadata\n",
      "53 matching events found\n",
      "No baseline correction applied\n",
      "0 projection items activated\n",
      "Reading c:\\Users\\afcad\\Downloads\\Sujeto11_MF_processed.fif ...\n"
     ]
    },
    {
     "name": "stderr",
     "output_type": "stream",
     "text": [
      "C:\\Users\\afcad\\AppData\\Local\\Temp\\ipykernel_580\\29792418.py:18: RuntimeWarning: This filename (Sujeto11_MF_processed.fif) does not conform to MNE naming conventions. All epochs files should end with -epo.fif, -epo.fif.gz, _epo.fif or _epo.fif.gz\n",
      "  fileMF = mne.read_epochs(file_MF)\n"
     ]
    },
    {
     "name": "stdout",
     "output_type": "stream",
     "text": [
      "    Found the data of interest:\n",
      "        t =   -2500.00 ...    2500.00 ms\n",
      "        0 CTF compensation matrices available\n",
      "Not setting metadata\n",
      "107 matching events found\n",
      "No baseline correction applied\n",
      "0 projection items activated\n",
      "Processing Sujeto14_R_processed.fif and Sujeto14_MF_processed.fif...\n",
      "Reading c:\\Users\\afcad\\Downloads\\Sujeto14_R_processed.fif ...\n",
      "    Found the data of interest:\n",
      "        t =   -2500.00 ...    2500.00 ms\n",
      "        0 CTF compensation matrices available\n"
     ]
    },
    {
     "name": "stderr",
     "output_type": "stream",
     "text": [
      "C:\\Users\\afcad\\AppData\\Local\\Temp\\ipykernel_580\\29792418.py:17: RuntimeWarning: This filename (Sujeto14_R_processed.fif) does not conform to MNE naming conventions. All epochs files should end with -epo.fif, -epo.fif.gz, _epo.fif or _epo.fif.gz\n",
      "  fileR = mne.read_epochs(file_R)\n"
     ]
    },
    {
     "name": "stdout",
     "output_type": "stream",
     "text": [
      "Not setting metadata\n",
      "71 matching events found\n",
      "No baseline correction applied\n",
      "0 projection items activated\n",
      "Reading c:\\Users\\afcad\\Downloads\\Sujeto14_MF_processed.fif ...\n"
     ]
    },
    {
     "name": "stderr",
     "output_type": "stream",
     "text": [
      "C:\\Users\\afcad\\AppData\\Local\\Temp\\ipykernel_580\\29792418.py:18: RuntimeWarning: This filename (Sujeto14_MF_processed.fif) does not conform to MNE naming conventions. All epochs files should end with -epo.fif, -epo.fif.gz, _epo.fif or _epo.fif.gz\n",
      "  fileMF = mne.read_epochs(file_MF)\n"
     ]
    },
    {
     "name": "stdout",
     "output_type": "stream",
     "text": [
      "    Found the data of interest:\n",
      "        t =   -2500.00 ...    2500.00 ms\n",
      "        0 CTF compensation matrices available\n",
      "Not setting metadata\n",
      "141 matching events found\n",
      "No baseline correction applied\n",
      "0 projection items activated\n",
      "Processing Sujeto16_R_processed.fif and Sujeto16_MF_processed.fif...\n",
      "Reading c:\\Users\\afcad\\Downloads\\Sujeto16_R_processed.fif ...\n",
      "    Found the data of interest:\n",
      "        t =   -2500.00 ...    2500.00 ms\n",
      "        0 CTF compensation matrices available\n"
     ]
    },
    {
     "name": "stderr",
     "output_type": "stream",
     "text": [
      "C:\\Users\\afcad\\AppData\\Local\\Temp\\ipykernel_580\\29792418.py:17: RuntimeWarning: This filename (Sujeto16_R_processed.fif) does not conform to MNE naming conventions. All epochs files should end with -epo.fif, -epo.fif.gz, _epo.fif or _epo.fif.gz\n",
      "  fileR = mne.read_epochs(file_R)\n"
     ]
    },
    {
     "name": "stdout",
     "output_type": "stream",
     "text": [
      "Not setting metadata\n",
      "52 matching events found\n",
      "No baseline correction applied\n",
      "0 projection items activated\n",
      "Reading c:\\Users\\afcad\\Downloads\\Sujeto16_MF_processed.fif ...\n"
     ]
    },
    {
     "name": "stderr",
     "output_type": "stream",
     "text": [
      "C:\\Users\\afcad\\AppData\\Local\\Temp\\ipykernel_580\\29792418.py:18: RuntimeWarning: This filename (Sujeto16_MF_processed.fif) does not conform to MNE naming conventions. All epochs files should end with -epo.fif, -epo.fif.gz, _epo.fif or _epo.fif.gz\n",
      "  fileMF = mne.read_epochs(file_MF)\n"
     ]
    },
    {
     "name": "stdout",
     "output_type": "stream",
     "text": [
      "    Found the data of interest:\n",
      "        t =   -2500.00 ...    2500.00 ms\n",
      "        0 CTF compensation matrices available\n",
      "Not setting metadata\n",
      "106 matching events found\n",
      "No baseline correction applied\n",
      "0 projection items activated\n"
     ]
    },
    {
     "ename": "ValueError",
     "evalue": "setting an array element with a sequence. The requested array has an inhomogeneous shape after 2 dimensions. The detected shape was (5, 61) + inhomogeneous part.",
     "output_type": "error",
     "traceback": [
      "\u001b[1;31m---------------------------------------------------------------------------\u001b[0m",
      "\u001b[1;31mValueError\u001b[0m                                Traceback (most recent call last)",
      "Cell \u001b[1;32mIn[80], line 105\u001b[0m\n\u001b[0;32m     96\u001b[0m file_pairs \u001b[38;5;241m=\u001b[39m [\n\u001b[0;32m     97\u001b[0m     (\u001b[38;5;124m'\u001b[39m\u001b[38;5;124mSujeto6_R_processed.fif\u001b[39m\u001b[38;5;124m'\u001b[39m, \u001b[38;5;124m'\u001b[39m\u001b[38;5;124mSujeto6_MF_processed.fif\u001b[39m\u001b[38;5;124m'\u001b[39m),\n\u001b[0;32m     98\u001b[0m     (\u001b[38;5;124m'\u001b[39m\u001b[38;5;124mSujeto9_R_processed.fif\u001b[39m\u001b[38;5;124m'\u001b[39m, \u001b[38;5;124m'\u001b[39m\u001b[38;5;124mSujeto9_MF_processed.fif\u001b[39m\u001b[38;5;124m'\u001b[39m),\n\u001b[1;32m   (...)\u001b[0m\n\u001b[0;32m    101\u001b[0m     (\u001b[38;5;124m'\u001b[39m\u001b[38;5;124mSujeto16_R_processed.fif\u001b[39m\u001b[38;5;124m'\u001b[39m, \u001b[38;5;124m'\u001b[39m\u001b[38;5;124mSujeto16_MF_processed.fif\u001b[39m\u001b[38;5;124m'\u001b[39m),\n\u001b[0;32m    102\u001b[0m ]\n\u001b[0;32m    104\u001b[0m \u001b[38;5;66;03m# Compute the average matrix\u001b[39;00m\n\u001b[1;32m--> 105\u001b[0m average_matrix \u001b[38;5;241m=\u001b[39m \u001b[43maverage_matrices\u001b[49m\u001b[43m(\u001b[49m\u001b[43mfile_pairs\u001b[49m\u001b[43m)\u001b[49m\n\u001b[0;32m    107\u001b[0m \u001b[38;5;66;03m# Visualization of the average matrix\u001b[39;00m\n\u001b[0;32m    108\u001b[0m sfreq \u001b[38;5;241m=\u001b[39m mne\u001b[38;5;241m.\u001b[39mread_epochs(file_pairs[\u001b[38;5;241m0\u001b[39m][\u001b[38;5;241m0\u001b[39m])\u001b[38;5;241m.\u001b[39minfo[\u001b[38;5;124m'\u001b[39m\u001b[38;5;124msfreq\u001b[39m\u001b[38;5;124m'\u001b[39m]  \u001b[38;5;66;03m# Sampling frequency from the first file\u001b[39;00m\n",
      "Cell \u001b[1;32mIn[80], line 90\u001b[0m, in \u001b[0;36maverage_matrices\u001b[1;34m(file_pairs)\u001b[0m\n\u001b[0;32m     87\u001b[0m     matrices\u001b[38;5;241m.\u001b[39mappend(normalized_matrix)\n\u001b[0;32m     89\u001b[0m \u001b[38;5;66;03m# Stack matrices along a new axis and compute the mean, ignoring NaN values\u001b[39;00m\n\u001b[1;32m---> 90\u001b[0m stacked_matrices \u001b[38;5;241m=\u001b[39m \u001b[43mnp\u001b[49m\u001b[38;5;241;43m.\u001b[39;49m\u001b[43marray\u001b[49m\u001b[43m(\u001b[49m\u001b[43mmatrices\u001b[49m\u001b[43m)\u001b[49m\n\u001b[0;32m     91\u001b[0m average_matrix \u001b[38;5;241m=\u001b[39m np\u001b[38;5;241m.\u001b[39mnanmean(stacked_matrices, axis\u001b[38;5;241m=\u001b[39m\u001b[38;5;241m0\u001b[39m)\n\u001b[0;32m     93\u001b[0m \u001b[38;5;28;01mreturn\u001b[39;00m average_matrix\n",
      "\u001b[1;31mValueError\u001b[0m: setting an array element with a sequence. The requested array has an inhomogeneous shape after 2 dimensions. The detected shape was (5, 61) + inhomogeneous part."
     ]
    }
   ],
   "source": [
    "import mne\n",
    "import numpy as np\n",
    "import matplotlib.pyplot as plt\n",
    "\n",
    "def process_and_visualize_eeg(file_R, file_MF):\n",
    "    \"\"\"\n",
    "    Process two EEG files (resting and MF signals), normalize them, and create a heatmap.\n",
    "    \n",
    "    Parameters:\n",
    "        file_R (str): Filepath to the resting signal (.fif).\n",
    "        file_MF (str): Filepath to the MF signal (.fif).\n",
    "        \n",
    "    Returns:\n",
    "        np.ndarray: Normalized concatenated matrix of shape (n_channels, total_time).\n",
    "    \"\"\"\n",
    "    # Load files\n",
    "    fileR = mne.read_epochs(file_R)  \n",
    "    fileMF = mne.read_epochs(file_MF)\n",
    "\n",
    "    # Extract data\n",
    "    dataR = fileR.get_data()  # Shape: (n_epochs, n_channels, n_times)\n",
    "    dataMF = fileMF.get_data()  # Shape: (n_epochs, n_channels, n_times)\n",
    "\n",
    "    # Sampling frequency\n",
    "    sfreq = fileR.info['sfreq']  # Sampling frequency (Hz)\n",
    "    n_times_to_keep = int(dataR.shape[2] - 0.5 * sfreq)  # Time points to keep\n",
    "\n",
    "    # Trim the last 0.5 seconds\n",
    "    dataR_trimmed = dataR[:, :, :n_times_to_keep]\n",
    "    dataMF_trimmed = dataMF[:, :, :n_times_to_keep]\n",
    "\n",
    "    # Compute mean and standard deviation of the trimmed resting signal\n",
    "    mean_R = np.mean(dataR_trimmed, axis=(0, 2))  # Mean across epochs and time\n",
    "    std_R = np.std(dataR_trimmed, axis=(0, 2))    # Std across epochs and time\n",
    "\n",
    "    # Concatenate both signals along epochs\n",
    "    data_combined = np.concatenate([dataR_trimmed, dataMF_trimmed], axis=0)\n",
    "\n",
    "    # Normalize the concatenated signal\n",
    "    data_normalized = (data_combined - mean_R[None, :, None]) / std_R[None, :, None]\n",
    "\n",
    "    # Concatenate all epochs along the time axis for each channel\n",
    "    data_normalized_ch = np.hstack(data_normalized)\n",
    "\n",
    "    # Visualization\n",
    "    n_channels, total_time = data_normalized_ch.shape\n",
    "    time = np.linspace(0, total_time / sfreq, total_time)  # Generate time axis based on sampling frequency\n",
    "    electrode_names = fileR.ch_names  # List of electrode names\n",
    "\n",
    "    # Compute concatenation point in seconds\n",
    "    concat_point = dataR_trimmed.shape[0] * dataR_trimmed.shape[2] / sfreq  # Total time of dataR_trimmed\n",
    "\n",
    "    # Create the heatmap\n",
    "    plt.figure(figsize=(12, 6))\n",
    "    plt.imshow(data_normalized_ch, aspect='auto', cmap='viridis', \n",
    "               extent=[time[0], time[-1], n_channels, 0])  # Extent flips the y-axis to show the first channel at the top\n",
    "\n",
    "    # Add a vertical line at the concatenation point\n",
    "    plt.axvline(x=concat_point, color='black', linestyle='--', label='Concatenation Point')\n",
    "\n",
    "    # Add labels and colorbar\n",
    "    plt.colorbar(label='Z-score')\n",
    "    plt.xlabel('Time (s)')\n",
    "    plt.ylabel('Electrodes')\n",
    "    plt.title('Heatmap of Normalized Signal Amplitudes')\n",
    "    plt.yticks(ticks=np.arange(len(electrode_names)), labels=electrode_names)\n",
    "    plt.legend()\n",
    "    plt.show()\n",
    "\n",
    "    return data_normalized_ch\n",
    "\n",
    "normalized_matrix = process_and_visualize_eeg('Sujeto6_R_processed.fif', 'Sujeto6_MF_processed.fif')\n",
    "print(\"Normalized matrix shape:\", normalized_matrix.shape)\n"
   ]
  },
  {
   "cell_type": "code",
   "execution_count": 60,
   "metadata": {},
   "outputs": [],
   "source": [
    "# Select the first 5 averaged channels\n",
    "data_subset = avg_data_by_channel[:5, :]  # Shape: (5, total_time)\n",
    "\n",
    "# Create a figure with subplots for heatmap and individual signals\n",
    "fig, axes = plt.subplots(6, 1, figsize=(12, 12), gridspec_kw={'height_ratios': [5, 1, 1, 1, 1, 1]}, sharex=True)\n",
    "\n",
    "# Plot the heatmap in the first subplot\n",
    "im = axes[0].imshow(data_subset, aspect='auto', cmap='viridis',\n",
    "                    extent=[time[0], time[-1], 5, 0])\n",
    "# Add a vertical line at the concatenation point\n",
    "axes[0].axvline(x=concat_point, color='black', linestyle='--', label='Concatenation Point')\n",
    "\n",
    "axes[0].set_ylabel('Electrodes')\n",
    "axes[0].set_title('Heatmap of Normalized Signal Amplitudes (First 5 Averaged Electrodes)')\n",
    "axes[0].yaxis.set_ticks(range(5))\n",
    "axes[0].set_yticklabels([all_channel_names[i] for i in range(5)])  # Use actual electrode names\n",
    "plt.colorbar(im, ax=axes[0], orientation='horizontal', fraction=0.05, pad=0.1, label='Amplitude (normalized)')\n",
    "\n",
    "# Plot signals in the next 5 subplots (one for each electrode)\n",
    "for i in range(5):\n",
    "    axes[i + 1].plot(time, data_subset[i], label=f'{all_channel_names[i]}')\n",
    "    axes[i + 1].set_ylabel('Amplitude')\n",
    "    axes[i + 1].legend(loc='upper right')\n",
    "\n",
    "# Set the x-axis label for the last subplot\n",
    "axes[-1].set_xlabel('Time (s)')\n",
    "\n",
    "plt.tight_layout()\n",
    "plt.show()"
   ]
  }
 ],
 "metadata": {
  "kernelspec": {
   "display_name": "MIND",
   "language": "python",
   "name": "python3"
  },
  "language_info": {
   "codemirror_mode": {
    "name": "ipython",
    "version": 3
   },
   "file_extension": ".py",
   "mimetype": "text/x-python",
   "name": "python",
   "nbconvert_exporter": "python",
   "pygments_lexer": "ipython3",
   "version": "3.10.14"
  }
 },
 "nbformat": 4,
 "nbformat_minor": 2
}
