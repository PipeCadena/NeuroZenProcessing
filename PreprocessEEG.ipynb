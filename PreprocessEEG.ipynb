{
 "cells": [
  {
   "cell_type": "code",
   "execution_count": null,
   "metadata": {},
   "outputs": [],
   "source": [
    "import numpy as np\n",
    "import matplotlib.pyplot as plt\n",
    "import mne\n",
    "from mne.datasets import eegbci\n",
    "from mne.preprocessing import ICA\n",
    "#mne.viz.set_3d_backend(\"notebook\")\n",
    "%matplotlib qt\n",
    "%gui qt"
   ]
  },
  {
   "cell_type": "code",
   "execution_count": null,
   "metadata": {},
   "outputs": [],
   "source": [
    "samprate = 1024\n",
    "references = [\"M1\", \"M2\"] \n",
    "hifilt = 45\n",
    "lowfilt = 0.5 \n",
    "externos = [\"EOG\"] \n",
    "\n",
    "path_suj_MF = 'C:/Users/Sebastian/Documents/NeuroZenProcessing/ParticipantsSet/Sujeto3_MF.set'\n",
    "path_suj_R = 'C:/Users/Sebastian/Documents/NeuroZenProcessing/ParticipantsSet/Sujeto3_R.set'\n",
    "path_guardar_suj = 'C:/Users/Sebastian/Documents/NeuroZenProcessing/Preprocessed/' \n",
    "name_guardar_suj_MF = 'Sujeto3_MF_processed.mat'\n",
    "name_guardar_suj_R = 'Sujeto3_R_processed.mat'"
   ]
  },
  {
   "cell_type": "code",
   "execution_count": null,
   "metadata": {},
   "outputs": [],
   "source": [
    "raw_data_MF = mne.io.read_raw_eeglab(path_suj_MF, eog = externos, preload=True)\n",
    "raw_data_R = mne.io.read_raw_eeglab(path_suj_R, eog = externos, preload=True)"
   ]
  },
  {
   "cell_type": "code",
   "execution_count": null,
   "metadata": {},
   "outputs": [],
   "source": [
    "channel_names = raw_data_MF.ch_names\n",
    "print(channel_names)\n",
    "channel_names = [x for x in channel_names if x not in externos]\n",
    "\n",
    "montage = mne.channels.make_standard_montage('standard_1020')\n",
    "\n",
    "ind = [i for (i, channel) in enumerate(montage.ch_names) if channel in channel_names]\n",
    "montage_new = montage.copy()\n",
    "# Keep only the desired channels\n",
    "montage_new.ch_names = [montage.ch_names[x] for x in ind]\n",
    "kept_channel_info = [montage.dig[x+3] for x in ind]\n",
    "# Keep the first three rows as they are the fiducial points information\n",
    "montage_new.dig = montage.dig[0:3]+kept_channel_info\n",
    "montage_new.plot(sphere=(0, 0.02, 0, 0.095))"
   ]
  },
  {
   "cell_type": "code",
   "execution_count": null,
   "metadata": {},
   "outputs": [],
   "source": [
    "raw_data_MF.set_montage(montage_new)\n",
    "raw_data_R.set_montage(montage_new)\n",
    "\n",
    "#print(raw_data_MF.ch_names)\n",
    "\n",
    "#drop eog channel\n",
    "raw_data_MF.drop_channels(externos)\n",
    "raw_data_R.drop_channels(externos)\n",
    "\n",
    "#set references\n",
    "raw_data_MF.set_eeg_reference(ref_channels=references)\n",
    "raw_data_R.set_eeg_reference(ref_channels=references)\n",
    "#print(raw_data_MF.info['chs'])"
   ]
  },
  {
   "cell_type": "code",
   "execution_count": null,
   "metadata": {},
   "outputs": [],
   "source": [
    "raw_data_MF.filter(l_freq=lowfilt, h_freq=hifilt)\n",
    "raw_data_R.filter(l_freq=lowfilt, h_freq=hifilt)"
   ]
  },
  {
   "cell_type": "code",
   "execution_count": null,
   "metadata": {},
   "outputs": [],
   "source": [
    "raw_data_MF.resample(1024, npad='auto')\n",
    "raw_data_R.resample(1024, npad='auto')"
   ]
  },
  {
   "cell_type": "code",
   "execution_count": null,
   "metadata": {},
   "outputs": [],
   "source": [
    "#check bad channels\n",
    "\n",
    "raw_data_MF.plot(scalings = dict(eeg=200e-6))"
   ]
  },
  {
   "cell_type": "code",
   "execution_count": null,
   "metadata": {},
   "outputs": [],
   "source": [
    "raw_data.info['bads'] = [] #note the bad channels\n",
    "picks = mne.pick_types(raw_data.info, exclude='bads')\n"
   ]
  },
  {
   "cell_type": "code",
   "execution_count": null,
   "metadata": {},
   "outputs": [],
   "source": [
    "raw_data.interpolate_bads(reset_bads=True)\n",
    "raw_data.plot(scalings=dict(eeg=200e-6))"
   ]
  },
  {
   "cell_type": "code",
   "execution_count": null,
   "metadata": {},
   "outputs": [],
   "source": [
    "num_components = 20\n",
    "ica = ICA(n_components=num_components, method='fastica')\n",
    "ica.fit(raw_data)"
   ]
  },
  {
   "cell_type": "code",
   "execution_count": null,
   "metadata": {},
   "outputs": [],
   "source": [
    "ica.plot_components()"
   ]
  },
  {
   "cell_type": "code",
   "execution_count": null,
   "metadata": {},
   "outputs": [],
   "source": [
    "#raw_data.plot(n_channels=63, scalings=dict(eeg=100e-6)) \n"
   ]
  },
  {
   "cell_type": "code",
   "execution_count": null,
   "metadata": {},
   "outputs": [],
   "source": [
    "#ica.plot_properties(raw_data, picks=); # This exact component number probably won't work if you recompute ICA"
   ]
  },
  {
   "cell_type": "code",
   "execution_count": null,
   "metadata": {},
   "outputs": [],
   "source": [
    "#ica.plot_overlay(raw, exclude=[])"
   ]
  },
  {
   "cell_type": "code",
   "execution_count": null,
   "metadata": {},
   "outputs": [],
   "source": [
    "ica.exclude = []\n",
    "eog_indices, eog_scores = ica.find_bads_eog(raw_data)\n",
    "ica.exclude = eog_indices"
   ]
  },
  {
   "cell_type": "code",
   "execution_count": null,
   "metadata": {},
   "outputs": [],
   "source": [
    "#barplot of ICA component \"EOG match\" scores\n",
    "#ica.plot_scores(eog_scores)\n",
    "\n",
    "#plot diagnostics\n",
    "#ica.plot_properties(raw_data, picks=eog_indices)\n",
    "\n",
    "#plot ICs applied to raw data, with EOG matches highlighted\n",
    "#ica.plot_sources(raw_data, show_scrollbars=False)\n"
   ]
  },
  {
   "cell_type": "code",
   "execution_count": null,
   "metadata": {},
   "outputs": [],
   "source": [
    "ica.apply(raw_data)\n",
    "raw_data.plot(scalings=dict(eeg=200e-6))"
   ]
  },
  {
   "cell_type": "code",
   "execution_count": null,
   "metadata": {},
   "outputs": [],
   "source": [
    "print(raw_data.info[\"projs\"])"
   ]
  },
  {
   "cell_type": "code",
   "execution_count": null,
   "metadata": {},
   "outputs": [],
   "source": [
    "mne.viz.plot_raw_psd(raw_data, fmax=18, picks=['eeg'])"
   ]
  },
  {
   "cell_type": "code",
   "execution_count": null,
   "metadata": {},
   "outputs": [],
   "source": [
    "#mne.viz.plot_raw_psd_topo(raw_data, fmax=18)"
   ]
  },
  {
   "cell_type": "code",
   "execution_count": null,
   "metadata": {},
   "outputs": [],
   "source": [
    "spectrum = raw_data.compute_psd()\n",
    "\n",
    "bands = {'Delta (0-4 Hz)': (0, 4), 'Theta (4-8 Hz)': (4, 8),\n",
    "         'Alpha (8-12 Hz)': (8, 12), 'Beta (12-30 Hz)': (12, 30)}\n",
    "\n",
    "spectrum.plot_topomap(bands= bands,sphere='eeglab', ch_type='eeg', cmap='jet')"
   ]
  }
 ],
 "metadata": {
  "kernelspec": {
   "display_name": "Python 3",
   "language": "python",
   "name": "python3"
  },
  "language_info": {
   "codemirror_mode": {
    "name": "ipython",
    "version": 3
   },
   "file_extension": ".py",
   "mimetype": "text/x-python",
   "name": "python",
   "nbconvert_exporter": "python",
   "pygments_lexer": "ipython3",
   "version": "3.8.7"
  }
 },
 "nbformat": 4,
 "nbformat_minor": 2
}
